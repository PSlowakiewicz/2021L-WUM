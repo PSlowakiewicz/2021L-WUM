{
 "cells": [
  {
   "cell_type": "markdown",
   "id": "associate-prototype",
   "metadata": {},
   "source": [
    "# Praca domowa nr 7\n",
    "Adrianna Grudzień\\\n",
    "14.06.2021 r.\n",
    "\n",
    "W ramach pracy domowej z przedmiotu Wstęp do uczenia maszynowego wykorzytałam `algorytm GMM` do wykrywania próbek odstających.\n",
    "Do oceny modelu użyłam metryk F1 score, Precision i Recall.\n",
    "\n",
    "Poniższe zbiory zostały wyodrębnione ze zbioru [Wine UCI](https://archive.ics.uci.edu/ml/datasets/wine):\n",
    "- train - bez próbek odstających, do trenowania modelu\n",
    "- test - do oceny skuteczności modelu, dodana informacja o klasie 0=inliers, 1=outliers\n",
    "- val - analogiczny do test, ale bez klasy"
   ]
  },
  {
   "cell_type": "code",
   "execution_count": 178,
   "id": "pretty-logging",
   "metadata": {},
   "outputs": [],
   "source": [
    "import pandas as pd\n",
    "import numpy as np\n",
    "import matplotlib.pyplot as plt\n",
    "from sklearn.mixture import GaussianMixture\n",
    "from sklearn.metrics import f1_score, precision_score, recall_score"
   ]
  },
  {
   "cell_type": "code",
   "execution_count": 179,
   "id": "sunset-relation",
   "metadata": {},
   "outputs": [],
   "source": [
    "test = pd.read_csv('test.csv')\n",
    "train = pd.read_csv('train.csv')\n",
    "val = pd.read_csv('val.csv')"
   ]
  },
  {
   "cell_type": "code",
   "execution_count": 180,
   "id": "threaded-chuck",
   "metadata": {},
   "outputs": [
    {
     "data": {
      "text/html": [
       "<div>\n",
       "<style scoped>\n",
       "    .dataframe tbody tr th:only-of-type {\n",
       "        vertical-align: middle;\n",
       "    }\n",
       "\n",
       "    .dataframe tbody tr th {\n",
       "        vertical-align: top;\n",
       "    }\n",
       "\n",
       "    .dataframe thead th {\n",
       "        text-align: right;\n",
       "    }\n",
       "</style>\n",
       "<table border=\"1\" class=\"dataframe\">\n",
       "  <thead>\n",
       "    <tr style=\"text-align: right;\">\n",
       "      <th></th>\n",
       "      <th>class</th>\n",
       "      <th>Alcohol</th>\n",
       "      <th>Malic acid</th>\n",
       "      <th>Ash</th>\n",
       "      <th>Alcalinity of ash</th>\n",
       "      <th>Magnesium</th>\n",
       "      <th>Total phenols</th>\n",
       "      <th>Flavanoids</th>\n",
       "      <th>Nonflavanoid phenols</th>\n",
       "      <th>Proanthocyanins</th>\n",
       "      <th>Color intensity</th>\n",
       "      <th>Hue</th>\n",
       "      <th>OD280/OD315 of diluted wines</th>\n",
       "      <th>Proline</th>\n",
       "    </tr>\n",
       "  </thead>\n",
       "  <tbody>\n",
       "    <tr>\n",
       "      <th>0</th>\n",
       "      <td>0</td>\n",
       "      <td>13.34</td>\n",
       "      <td>0.94</td>\n",
       "      <td>2.36</td>\n",
       "      <td>17.0</td>\n",
       "      <td>110</td>\n",
       "      <td>2.53</td>\n",
       "      <td>1.30</td>\n",
       "      <td>0.55</td>\n",
       "      <td>0.42</td>\n",
       "      <td>3.17</td>\n",
       "      <td>1.02</td>\n",
       "      <td>1.93</td>\n",
       "      <td>750</td>\n",
       "    </tr>\n",
       "    <tr>\n",
       "      <th>1</th>\n",
       "      <td>0</td>\n",
       "      <td>12.00</td>\n",
       "      <td>0.92</td>\n",
       "      <td>2.00</td>\n",
       "      <td>19.0</td>\n",
       "      <td>86</td>\n",
       "      <td>2.42</td>\n",
       "      <td>2.26</td>\n",
       "      <td>0.30</td>\n",
       "      <td>1.43</td>\n",
       "      <td>2.50</td>\n",
       "      <td>1.38</td>\n",
       "      <td>3.12</td>\n",
       "      <td>278</td>\n",
       "    </tr>\n",
       "    <tr>\n",
       "      <th>2</th>\n",
       "      <td>0</td>\n",
       "      <td>11.84</td>\n",
       "      <td>0.89</td>\n",
       "      <td>2.58</td>\n",
       "      <td>18.0</td>\n",
       "      <td>94</td>\n",
       "      <td>2.20</td>\n",
       "      <td>2.21</td>\n",
       "      <td>0.22</td>\n",
       "      <td>2.35</td>\n",
       "      <td>3.05</td>\n",
       "      <td>0.79</td>\n",
       "      <td>3.08</td>\n",
       "      <td>520</td>\n",
       "    </tr>\n",
       "  </tbody>\n",
       "</table>\n",
       "</div>"
      ],
      "text/plain": [
       "   class  Alcohol  Malic acid   Ash  Alcalinity of ash  Magnesium  \\\n",
       "0      0    13.34        0.94  2.36               17.0        110   \n",
       "1      0    12.00        0.92  2.00               19.0         86   \n",
       "2      0    11.84        0.89  2.58               18.0         94   \n",
       "\n",
       "   Total phenols  Flavanoids  Nonflavanoid phenols  Proanthocyanins  \\\n",
       "0           2.53        1.30                  0.55             0.42   \n",
       "1           2.42        2.26                  0.30             1.43   \n",
       "2           2.20        2.21                  0.22             2.35   \n",
       "\n",
       "   Color intensity   Hue  OD280/OD315 of diluted wines  Proline  \n",
       "0             3.17  1.02                          1.93      750  \n",
       "1             2.50  1.38                          3.12      278  \n",
       "2             3.05  0.79                          3.08      520  "
      ]
     },
     "execution_count": 180,
     "metadata": {},
     "output_type": "execute_result"
    }
   ],
   "source": [
    "test.head(3)"
   ]
  },
  {
   "cell_type": "markdown",
   "id": "ignored-pledge",
   "metadata": {},
   "source": [
    "Rozdzielam klasę od zbioru testowego."
   ]
  },
  {
   "cell_type": "code",
   "execution_count": 181,
   "id": "polar-acrylic",
   "metadata": {},
   "outputs": [
    {
     "data": {
      "text/html": [
       "<div>\n",
       "<style scoped>\n",
       "    .dataframe tbody tr th:only-of-type {\n",
       "        vertical-align: middle;\n",
       "    }\n",
       "\n",
       "    .dataframe tbody tr th {\n",
       "        vertical-align: top;\n",
       "    }\n",
       "\n",
       "    .dataframe thead th {\n",
       "        text-align: right;\n",
       "    }\n",
       "</style>\n",
       "<table border=\"1\" class=\"dataframe\">\n",
       "  <thead>\n",
       "    <tr style=\"text-align: right;\">\n",
       "      <th></th>\n",
       "      <th>Alcohol</th>\n",
       "      <th>Malic acid</th>\n",
       "      <th>Ash</th>\n",
       "      <th>Alcalinity of ash</th>\n",
       "      <th>Magnesium</th>\n",
       "      <th>Total phenols</th>\n",
       "      <th>Flavanoids</th>\n",
       "      <th>Nonflavanoid phenols</th>\n",
       "      <th>Proanthocyanins</th>\n",
       "      <th>Color intensity</th>\n",
       "      <th>Hue</th>\n",
       "      <th>OD280/OD315 of diluted wines</th>\n",
       "      <th>Proline</th>\n",
       "    </tr>\n",
       "  </thead>\n",
       "  <tbody>\n",
       "    <tr>\n",
       "      <th>0</th>\n",
       "      <td>13.34</td>\n",
       "      <td>0.94</td>\n",
       "      <td>2.36</td>\n",
       "      <td>17.0</td>\n",
       "      <td>110</td>\n",
       "      <td>2.53</td>\n",
       "      <td>1.30</td>\n",
       "      <td>0.55</td>\n",
       "      <td>0.42</td>\n",
       "      <td>3.17</td>\n",
       "      <td>1.02</td>\n",
       "      <td>1.93</td>\n",
       "      <td>750</td>\n",
       "    </tr>\n",
       "    <tr>\n",
       "      <th>1</th>\n",
       "      <td>12.00</td>\n",
       "      <td>0.92</td>\n",
       "      <td>2.00</td>\n",
       "      <td>19.0</td>\n",
       "      <td>86</td>\n",
       "      <td>2.42</td>\n",
       "      <td>2.26</td>\n",
       "      <td>0.30</td>\n",
       "      <td>1.43</td>\n",
       "      <td>2.50</td>\n",
       "      <td>1.38</td>\n",
       "      <td>3.12</td>\n",
       "      <td>278</td>\n",
       "    </tr>\n",
       "    <tr>\n",
       "      <th>2</th>\n",
       "      <td>11.84</td>\n",
       "      <td>0.89</td>\n",
       "      <td>2.58</td>\n",
       "      <td>18.0</td>\n",
       "      <td>94</td>\n",
       "      <td>2.20</td>\n",
       "      <td>2.21</td>\n",
       "      <td>0.22</td>\n",
       "      <td>2.35</td>\n",
       "      <td>3.05</td>\n",
       "      <td>0.79</td>\n",
       "      <td>3.08</td>\n",
       "      <td>520</td>\n",
       "    </tr>\n",
       "  </tbody>\n",
       "</table>\n",
       "</div>"
      ],
      "text/plain": [
       "   Alcohol  Malic acid   Ash  Alcalinity of ash  Magnesium  Total phenols  \\\n",
       "0    13.34        0.94  2.36               17.0        110           2.53   \n",
       "1    12.00        0.92  2.00               19.0         86           2.42   \n",
       "2    11.84        0.89  2.58               18.0         94           2.20   \n",
       "\n",
       "   Flavanoids  Nonflavanoid phenols  Proanthocyanins  Color intensity   Hue  \\\n",
       "0        1.30                  0.55             0.42             3.17  1.02   \n",
       "1        2.26                  0.30             1.43             2.50  1.38   \n",
       "2        2.21                  0.22             2.35             3.05  0.79   \n",
       "\n",
       "   OD280/OD315 of diluted wines  Proline  \n",
       "0                          1.93      750  \n",
       "1                          3.12      278  \n",
       "2                          3.08      520  "
      ]
     },
     "execution_count": 181,
     "metadata": {},
     "output_type": "execute_result"
    }
   ],
   "source": [
    "klasa = test['class']\n",
    "test = test.drop('class', axis=1)\n",
    "test.head(3)"
   ]
  },
  {
   "cell_type": "code",
   "execution_count": 182,
   "id": "sized-capitol",
   "metadata": {},
   "outputs": [
    {
     "data": {
      "text/plain": [
       "0     0\n",
       "1     0\n",
       "2     0\n",
       "3     0\n",
       "4     0\n",
       "5     0\n",
       "6     0\n",
       "7     0\n",
       "8     0\n",
       "9     0\n",
       "10    0\n",
       "11    0\n",
       "12    1\n",
       "13    1\n",
       "14    1\n",
       "15    1\n",
       "16    1\n",
       "Name: class, dtype: int64"
      ]
     },
     "execution_count": 182,
     "metadata": {},
     "output_type": "execute_result"
    }
   ],
   "source": [
    "klasa"
   ]
  },
  {
   "cell_type": "markdown",
   "id": "moved-jacob",
   "metadata": {},
   "source": [
    "### Liczba wartości odstających"
   ]
  },
  {
   "cell_type": "code",
   "execution_count": 183,
   "id": "constitutional-order",
   "metadata": {},
   "outputs": [
    {
     "name": "stdout",
     "output_type": "stream",
     "text": [
      "W zbiorze jest 5 wartości odstających.\n"
     ]
    }
   ],
   "source": [
    "print('W zbiorze jest',klasa.sum(), 'wartości odstających.')"
   ]
  },
  {
   "cell_type": "markdown",
   "id": "curious-manchester",
   "metadata": {},
   "source": [
    "# Wybór liczby komponentów\n",
    "\n",
    "Fakt, że GMM jest modelem generatywnym, daje nam naturalny sposób na określenie optymalnej liczby komponentów dla danego zbioru danych. Model generatywny jest z natury rozkładem prawdopodobieństwa dla zbioru danych, więc możemy po prostu ocenić prawdopodobieństwo danych w modelu, używając walidacji krzyżowej, aby uniknąć nadmiernego dopasowania. Innym sposobem korygowania nadmiernego dopasowania jest dostosowanie prawdopodobieństw modelu za pomocą pewnego kryterium analitycznego, takiego jak kryterium informacyjne Akaike (AIC) lub kryterium informacyjne Bayesa (BIC). Estymator GMM firmy Scikit-Learn w rzeczywistości zawiera wbudowane metody, które obliczają oba te elementy.\n",
    "\n",
    "Skorzystam z kryterium BIC (Bayesian information criterion)."
   ]
  },
  {
   "cell_type": "code",
   "execution_count": 184,
   "id": "exterior-winter",
   "metadata": {},
   "outputs": [
    {
     "data": {
      "image/png": "[encoded data removed]",
      "text/plain": [
       "<Figure size 432x288 with 1 Axes>"
      ]
     },
     "metadata": {
      "needs_background": "light"
     },
     "output_type": "display_data"
    }
   ],
   "source": [
    "bic = []\n",
    "# aic = []\n",
    "n = 13\n",
    "for i in range(1, n):\n",
    "    gmm = GaussianMixture(n_components = i, random_state = 42, covariance_type = \"full\")\n",
    "    gmm.fit(train)\n",
    "    bic.append(gmm.bic(train))\n",
    "#     aic.append(gmm.aic(train))\n",
    "\n",
    "plt.plot(range(1,n), bic, label='BIC')\n",
    "# plt.plot(range(1,n), aic, label='AIC')\n",
    "plt.legend(loc='best')\n",
    "plt.xlabel('n_components')\n",
    "plt.show()"
   ]
  },
  {
   "cell_type": "markdown",
   "id": "indoor-price",
   "metadata": {},
   "source": [
    "Źródła: https://jakevdp.github.io/PythonDataScienceHandbook/05.12-gaussian-mixtures.html"
   ]
  },
  {
   "cell_type": "markdown",
   "id": "accompanied-evidence",
   "metadata": {},
   "source": [
    "Wybieram liczbę komponentów, przy której funkcja osiąga minimum. W tym przypadku jest to liczba 1."
   ]
  },
  {
   "cell_type": "code",
   "execution_count": 201,
   "id": "seasonal-regression",
   "metadata": {},
   "outputs": [],
   "source": [
    "gmm = GaussianMixture(n_components=1, covariance_type='full', random_state=42).fit(train)"
   ]
  },
  {
   "cell_type": "markdown",
   "id": "recorded-safety",
   "metadata": {},
   "source": [
    "# Wybór tresholdu"
   ]
  },
  {
   "cell_type": "code",
   "execution_count": 202,
   "id": "contained-location",
   "metadata": {},
   "outputs": [
    {
     "data": {
      "text/plain": [
       "array([-16.11433629, -16.24072663, -17.01319953, -18.53216451,\n",
       "       -15.41980729, -17.02567806, -20.62755692, -30.16511221,\n",
       "       -15.87223657, -13.15813475, -16.5537263 , -21.65120826,\n",
       "       -18.6754991 , -15.40723157, -15.83935145, -18.51395884,\n",
       "       -16.34631529, -17.19295309, -15.05451269, -15.10925767,\n",
       "       -18.3293234 , -16.21830116, -16.52153899, -16.17521872,\n",
       "       -17.55833929, -17.05622934, -16.10603533, -20.91012001,\n",
       "       -15.67894179, -17.82279723, -28.30009176, -15.99565493,\n",
       "       -16.49666138, -17.66940234, -18.8621301 , -16.41508755,\n",
       "       -18.84280997, -17.33271727, -20.39825377, -18.51097736,\n",
       "       -13.93796963, -17.18712056, -16.66823296, -15.65827134,\n",
       "       -15.68265414, -16.18083342, -24.26800554, -18.10968611,\n",
       "       -35.63214562, -19.55053039, -23.36893287, -18.66743755,\n",
       "       -16.96489625, -21.5739571 , -17.53747276, -14.73124816,\n",
       "       -18.13769963, -18.74700277, -22.80200584, -16.83219175,\n",
       "       -15.48375733, -20.80138758, -14.35628214, -18.42605237,\n",
       "       -21.13826561, -15.1347785 , -16.92801615, -21.70077117,\n",
       "       -17.38883072, -18.91035719, -15.72486541, -18.95868102,\n",
       "       -16.98579456, -14.96722426, -17.92362   , -15.8191687 ,\n",
       "       -19.02078388, -16.46238928, -16.12101341, -16.52864744,\n",
       "       -30.61779262, -19.36154838, -23.57297991, -14.55641981,\n",
       "       -17.12606041, -17.50914559, -16.49843514, -15.92739567,\n",
       "       -14.46245352, -16.60237283, -17.185796  , -16.50488031,\n",
       "       -17.58814769, -15.76729685, -18.20736011])"
      ]
     },
     "execution_count": 202,
     "metadata": {},
     "output_type": "execute_result"
    }
   ],
   "source": [
    "train_score = gmm.score_samples(train)\n",
    "train_score"
   ]
  },
  {
   "cell_type": "code",
   "execution_count": 203,
   "id": "painful-bradley",
   "metadata": {},
   "outputs": [
    {
     "name": "stdout",
     "output_type": "stream",
     "text": [
      "Treshold: (-36.0, -13.0)\n"
     ]
    }
   ],
   "source": [
    "treshold = (np.floor(min(train_score)), np.ceil(max(train_score)))\n",
    "print('Treshold:', treshold)"
   ]
  },
  {
   "cell_type": "code",
   "execution_count": 204,
   "id": "pressed-stocks",
   "metadata": {},
   "outputs": [
    {
     "data": {
      "text/plain": [
       "array([-27.98408339, -16.00062629, -25.18813464, -33.08470866,\n",
       "       -26.091527  , -16.56657131, -15.6694633 , -24.56470654,\n",
       "       -17.76619681, -15.00916902, -15.6122348 , -15.96698264,\n",
       "       -38.46599555, -32.74787752, -34.97227525, -69.70978568,\n",
       "       -54.71878434])"
      ]
     },
     "execution_count": 204,
     "metadata": {},
     "output_type": "execute_result"
    }
   ],
   "source": [
    "test_score=gmm.score_samples(test) \n",
    "test_score"
   ]
  },
  {
   "cell_type": "code",
   "execution_count": 205,
   "id": "established-bracket",
   "metadata": {},
   "outputs": [
    {
     "data": {
      "text/plain": [
       "array([-24.10959418, -13.65630606, -18.34880196, -24.73181233,\n",
       "       -26.57221749, -15.40885949, -17.54071457, -44.68237109,\n",
       "       -23.49812295, -16.62083415, -23.70650304, -18.9538749 ,\n",
       "       -32.17842524, -19.9733441 , -23.6015326 , -16.07247901,\n",
       "       -50.96461189])"
      ]
     },
     "execution_count": 205,
     "metadata": {},
     "output_type": "execute_result"
    }
   ],
   "source": [
    "val_score = gmm.score_samples(val)\n",
    "val_score"
   ]
  },
  {
   "cell_type": "code",
   "execution_count": 213,
   "id": "compliant-shirt",
   "metadata": {},
   "outputs": [
    {
     "name": "stdout",
     "output_type": "stream",
     "text": [
      "Wartości odstające: [0, 0, 0, 0, 0, 0, 0, 1, 0, 0, 0, 0, 0, 0, 0, 0, 1]\n",
      "Liczba tych wartości: 2\n"
     ]
    }
   ],
   "source": [
    "outliers_val = []\n",
    "for i in val_score:\n",
    "    if i < treshold[0] or i > treshold[1]:\n",
    "        outliers_val.append(1)\n",
    "    else:\n",
    "        outliers_val.append(0)\n",
    "        \n",
    "print('Wartości odstające:', outliers_val)\n",
    "print('Liczba tych wartości:', sum(outliers_val))"
   ]
  },
  {
   "cell_type": "code",
   "execution_count": 214,
   "id": "solved-carrier",
   "metadata": {},
   "outputs": [
    {
     "name": "stdout",
     "output_type": "stream",
     "text": [
      "Wartości odstające: [0, 0, 0, 0, 0, 0, 0, 0, 0, 0, 0, 0, 1, 0, 0, 1, 1]\n",
      "Liczba tych wartości: 3\n"
     ]
    },
    {
     "data": {
      "text/html": [
       "<div>\n",
       "<style scoped>\n",
       "    .dataframe tbody tr th:only-of-type {\n",
       "        vertical-align: middle;\n",
       "    }\n",
       "\n",
       "    .dataframe tbody tr th {\n",
       "        vertical-align: top;\n",
       "    }\n",
       "\n",
       "    .dataframe thead th {\n",
       "        text-align: right;\n",
       "    }\n",
       "</style>\n",
       "<table border=\"1\" class=\"dataframe\">\n",
       "  <thead>\n",
       "    <tr style=\"text-align: right;\">\n",
       "      <th></th>\n",
       "      <th>oryginalnie</th>\n",
       "      <th>przewidywane</th>\n",
       "    </tr>\n",
       "  </thead>\n",
       "  <tbody>\n",
       "    <tr>\n",
       "      <th>0</th>\n",
       "      <td>0</td>\n",
       "      <td>0</td>\n",
       "    </tr>\n",
       "    <tr>\n",
       "      <th>1</th>\n",
       "      <td>0</td>\n",
       "      <td>0</td>\n",
       "    </tr>\n",
       "    <tr>\n",
       "      <th>2</th>\n",
       "      <td>0</td>\n",
       "      <td>0</td>\n",
       "    </tr>\n",
       "    <tr>\n",
       "      <th>3</th>\n",
       "      <td>0</td>\n",
       "      <td>0</td>\n",
       "    </tr>\n",
       "    <tr>\n",
       "      <th>4</th>\n",
       "      <td>0</td>\n",
       "      <td>0</td>\n",
       "    </tr>\n",
       "    <tr>\n",
       "      <th>5</th>\n",
       "      <td>0</td>\n",
       "      <td>0</td>\n",
       "    </tr>\n",
       "    <tr>\n",
       "      <th>6</th>\n",
       "      <td>0</td>\n",
       "      <td>0</td>\n",
       "    </tr>\n",
       "    <tr>\n",
       "      <th>7</th>\n",
       "      <td>0</td>\n",
       "      <td>0</td>\n",
       "    </tr>\n",
       "    <tr>\n",
       "      <th>8</th>\n",
       "      <td>0</td>\n",
       "      <td>0</td>\n",
       "    </tr>\n",
       "    <tr>\n",
       "      <th>9</th>\n",
       "      <td>0</td>\n",
       "      <td>0</td>\n",
       "    </tr>\n",
       "    <tr>\n",
       "      <th>10</th>\n",
       "      <td>0</td>\n",
       "      <td>0</td>\n",
       "    </tr>\n",
       "    <tr>\n",
       "      <th>11</th>\n",
       "      <td>0</td>\n",
       "      <td>0</td>\n",
       "    </tr>\n",
       "    <tr>\n",
       "      <th>12</th>\n",
       "      <td>1</td>\n",
       "      <td>1</td>\n",
       "    </tr>\n",
       "    <tr>\n",
       "      <th>13</th>\n",
       "      <td>1</td>\n",
       "      <td>0</td>\n",
       "    </tr>\n",
       "    <tr>\n",
       "      <th>14</th>\n",
       "      <td>1</td>\n",
       "      <td>0</td>\n",
       "    </tr>\n",
       "    <tr>\n",
       "      <th>15</th>\n",
       "      <td>1</td>\n",
       "      <td>1</td>\n",
       "    </tr>\n",
       "    <tr>\n",
       "      <th>16</th>\n",
       "      <td>1</td>\n",
       "      <td>1</td>\n",
       "    </tr>\n",
       "  </tbody>\n",
       "</table>\n",
       "</div>"
      ],
      "text/plain": [
       "    oryginalnie  przewidywane\n",
       "0             0             0\n",
       "1             0             0\n",
       "2             0             0\n",
       "3             0             0\n",
       "4             0             0\n",
       "5             0             0\n",
       "6             0             0\n",
       "7             0             0\n",
       "8             0             0\n",
       "9             0             0\n",
       "10            0             0\n",
       "11            0             0\n",
       "12            1             1\n",
       "13            1             0\n",
       "14            1             0\n",
       "15            1             1\n",
       "16            1             1"
      ]
     },
     "execution_count": 214,
     "metadata": {},
     "output_type": "execute_result"
    }
   ],
   "source": [
    "outliers_test = []\n",
    "for i in test_score:\n",
    "    if i < treshold[0] or i > treshold[1]:\n",
    "        outliers_test.append(1)\n",
    "    else:\n",
    "        outliers_test.append(0)\n",
    "\n",
    "print('Wartości odstające:', outliers_test)\n",
    "print('Liczba tych wartości:', sum(outliers_test))\n",
    "\n",
    "df = pd.DataFrame()\n",
    "df['oryginalnie'] = klasa\n",
    "df['przewidywane'] = outliers_test\n",
    "df"
   ]
  },
  {
   "cell_type": "markdown",
   "id": "overall-jewel",
   "metadata": {},
   "source": [
    "Jak widać, zostały wykryte tylko 3 z 5 wartości odstających."
   ]
  },
  {
   "cell_type": "code",
   "execution_count": 219,
   "id": "instrumental-vanilla",
   "metadata": {},
   "outputs": [
    {
     "name": "stdout",
     "output_type": "stream",
     "text": [
      "F1 score: 0.7499999999999999\n",
      "Precision score: 1.0\n",
      "Recall score: 0.6\n"
     ]
    }
   ],
   "source": [
    "print(\"F1 score:\", f1_score(klasa, outliers_test))\n",
    "print(\"Precision score:\", precision_score(klasa, outliers_test))\n",
    "print(\"Recall score:\", recall_score(klasa, outliers_test))"
   ]
  },
  {
   "cell_type": "markdown",
   "id": "rocky-gossip",
   "metadata": {},
   "source": [
    "Wyniki są całkiem niezłe.\n",
    "# Wnioski\n",
    "Przy stosowaniu algorytmu GMM ważny jest odpowiedni dobór hiperparametrów, gdyż może to znacząco zmienić wyniki metryk. W analizowanym przypadku F1 score jest na wysokim poziomie (najwyższa i tym samym najlepsza wartośc wynosi 1, a tutaj mamy 0.75). Precision score wyższe być nie mogłoby (przyjmuje wartości z [0,1], gdzie 1 - najlepsza precyzja); recall score przyjmuje wartość 0.6, co odwzorowuje 3 na 5 dobrze wykrytych wartości odstających. Podsumowując, mogę powiedzieć, że GMM jest dobrą metodą wykrywania danych odstających."
   ]
  }
 ],
 "metadata": {
  "kernelspec": {
   "display_name": "Python 3",
   "language": "python",
   "name": "python3"
  },
  "language_info": {
   "codemirror_mode": {
    "name": "ipython",
    "version": 3
   },
   "file_extension": ".py",
   "mimetype": "text/x-python",
   "name": "python",
   "nbconvert_exporter": "python",
   "pygments_lexer": "ipython3",
   "version": "3.7.6"
  }
 },
 "nbformat": 4,
 "nbformat_minor": 5
}
