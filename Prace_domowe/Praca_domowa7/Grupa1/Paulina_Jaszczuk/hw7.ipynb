{
 "cells": [
  {
   "cell_type": "markdown",
   "metadata": {},
   "source": [
    "# Praca domowa 7\n",
    "### Paulina Jaszczuk"
   ]
  },
  {
   "cell_type": "markdown",
   "metadata": {},
   "source": [
    "## Import pakietów"
   ]
  },
  {
   "cell_type": "code",
   "execution_count": 158,
   "metadata": {},
   "outputs": [],
   "source": [
    "import pandas as pd\n",
    "import matplotlib.pyplot as plt\n",
    "import numpy as np\n",
    "import seaborn as sns\n",
    "from sklearn.mixture import GaussianMixture\n",
    "from sklearn.metrics import f1_score, precision_score, recall_score\n",
    "from sklearn.metrics import silhouette_score,calinski_harabasz_score\n",
    "from math import floor, ceil\n",
    "import copy\n",
    "import warnings\n",
    "warnings.filterwarnings('ignore')"
   ]
  },
  {
   "cell_type": "markdown",
   "metadata": {},
   "source": [
    "## Import danych"
   ]
  },
  {
   "cell_type": "code",
   "execution_count": 163,
   "metadata": {},
   "outputs": [
    {
     "data": {
      "text/html": [
       "<div>\n",
       "<style scoped>\n",
       "    .dataframe tbody tr th:only-of-type {\n",
       "        vertical-align: middle;\n",
       "    }\n",
       "\n",
       "    .dataframe tbody tr th {\n",
       "        vertical-align: top;\n",
       "    }\n",
       "\n",
       "    .dataframe thead th {\n",
       "        text-align: right;\n",
       "    }\n",
       "</style>\n",
       "<table border=\"1\" class=\"dataframe\">\n",
       "  <thead>\n",
       "    <tr style=\"text-align: right;\">\n",
       "      <th></th>\n",
       "      <th>Alcohol</th>\n",
       "      <th>Malic acid</th>\n",
       "      <th>Ash</th>\n",
       "      <th>Alcalinity of ash</th>\n",
       "      <th>Magnesium</th>\n",
       "      <th>Total phenols</th>\n",
       "      <th>Flavanoids</th>\n",
       "      <th>Nonflavanoid phenols</th>\n",
       "      <th>Proanthocyanins</th>\n",
       "      <th>Color intensity</th>\n",
       "      <th>Hue</th>\n",
       "      <th>OD280/OD315 of diluted wines</th>\n",
       "      <th>Proline</th>\n",
       "    </tr>\n",
       "  </thead>\n",
       "  <tbody>\n",
       "    <tr>\n",
       "      <th>0</th>\n",
       "      <td>12.72</td>\n",
       "      <td>1.75</td>\n",
       "      <td>2.28</td>\n",
       "      <td>22.5</td>\n",
       "      <td>84</td>\n",
       "      <td>1.38</td>\n",
       "      <td>1.76</td>\n",
       "      <td>0.48</td>\n",
       "      <td>1.63</td>\n",
       "      <td>3.30</td>\n",
       "      <td>0.88</td>\n",
       "      <td>2.42</td>\n",
       "      <td>488</td>\n",
       "    </tr>\n",
       "    <tr>\n",
       "      <th>1</th>\n",
       "      <td>13.23</td>\n",
       "      <td>3.30</td>\n",
       "      <td>2.28</td>\n",
       "      <td>18.5</td>\n",
       "      <td>98</td>\n",
       "      <td>1.80</td>\n",
       "      <td>0.83</td>\n",
       "      <td>0.61</td>\n",
       "      <td>1.87</td>\n",
       "      <td>10.52</td>\n",
       "      <td>0.56</td>\n",
       "      <td>1.51</td>\n",
       "      <td>675</td>\n",
       "    </tr>\n",
       "    <tr>\n",
       "      <th>2</th>\n",
       "      <td>12.58</td>\n",
       "      <td>1.29</td>\n",
       "      <td>2.10</td>\n",
       "      <td>20.0</td>\n",
       "      <td>103</td>\n",
       "      <td>1.48</td>\n",
       "      <td>0.58</td>\n",
       "      <td>0.53</td>\n",
       "      <td>1.40</td>\n",
       "      <td>7.60</td>\n",
       "      <td>0.58</td>\n",
       "      <td>1.55</td>\n",
       "      <td>640</td>\n",
       "    </tr>\n",
       "    <tr>\n",
       "      <th>3</th>\n",
       "      <td>12.37</td>\n",
       "      <td>1.17</td>\n",
       "      <td>1.92</td>\n",
       "      <td>19.6</td>\n",
       "      <td>78</td>\n",
       "      <td>2.11</td>\n",
       "      <td>2.00</td>\n",
       "      <td>0.27</td>\n",
       "      <td>1.04</td>\n",
       "      <td>4.68</td>\n",
       "      <td>1.12</td>\n",
       "      <td>3.48</td>\n",
       "      <td>510</td>\n",
       "    </tr>\n",
       "    <tr>\n",
       "      <th>4</th>\n",
       "      <td>13.84</td>\n",
       "      <td>4.12</td>\n",
       "      <td>2.38</td>\n",
       "      <td>19.5</td>\n",
       "      <td>89</td>\n",
       "      <td>1.80</td>\n",
       "      <td>0.83</td>\n",
       "      <td>0.48</td>\n",
       "      <td>1.56</td>\n",
       "      <td>9.01</td>\n",
       "      <td>0.57</td>\n",
       "      <td>1.64</td>\n",
       "      <td>480</td>\n",
       "    </tr>\n",
       "  </tbody>\n",
       "</table>\n",
       "</div>"
      ],
      "text/plain": [
       "   Alcohol  Malic acid   Ash  Alcalinity of ash  Magnesium  Total phenols  \\\n",
       "0    12.72        1.75  2.28               22.5         84           1.38   \n",
       "1    13.23        3.30  2.28               18.5         98           1.80   \n",
       "2    12.58        1.29  2.10               20.0        103           1.48   \n",
       "3    12.37        1.17  1.92               19.6         78           2.11   \n",
       "4    13.84        4.12  2.38               19.5         89           1.80   \n",
       "\n",
       "   Flavanoids  Nonflavanoid phenols  Proanthocyanins  Color intensity   Hue  \\\n",
       "0        1.76                  0.48             1.63             3.30  0.88   \n",
       "1        0.83                  0.61             1.87            10.52  0.56   \n",
       "2        0.58                  0.53             1.40             7.60  0.58   \n",
       "3        2.00                  0.27             1.04             4.68  1.12   \n",
       "4        0.83                  0.48             1.56             9.01  0.57   \n",
       "\n",
       "   OD280/OD315 of diluted wines  Proline  \n",
       "0                          2.42      488  \n",
       "1                          1.51      675  \n",
       "2                          1.55      640  \n",
       "3                          3.48      510  \n",
       "4                          1.64      480  "
      ]
     },
     "execution_count": 163,
     "metadata": {},
     "output_type": "execute_result"
    }
   ],
   "source": [
    "train = pd.read_csv(\"C:\\\\Users\\\\pauli\\\\WUM\\\\hw7\\\\train.csv\")\n",
    "val = pd.read_csv(\"C:\\\\Users\\\\pauli\\\\WUM\\\\hw7\\\\val.csv\")\n",
    "test = pd.read_csv(\"C:\\\\Users\\\\pauli\\\\WUM\\\\hw7\\\\test.csv\")\n",
    "test_y = pd.DataFrame(test.iloc[:, 0])\n",
    "test_x = test.iloc[:, 1:]\n",
    "train.head()"
   ]
  },
  {
   "cell_type": "markdown",
   "metadata": {},
   "source": [
    "## Znalezienie optymalnej liczby klastrów"
   ]
  },
  {
   "cell_type": "code",
   "execution_count": 136,
   "metadata": {},
   "outputs": [],
   "source": [
    "# funkcja klasteryzuje dane metodą GMM\n",
    "def GMM_clustering(X, n_components, covType):\n",
    "    gmm = mixture.GaussianMixture(n_components=n_components, covariance_type=covType)\n",
    "    gmm.fit(X)\n",
    "    if hasattr(gmm, 'labels_'):\n",
    "        y_pred = gmm.labels_.astype(np.int)\n",
    "    else:\n",
    "        y_pred = gmm.predict(X)\n",
    "    return X, y_pred"
   ]
  },
  {
   "cell_type": "code",
   "execution_count": 135,
   "metadata": {},
   "outputs": [],
   "source": [
    "# funckja oblicza wartości Silhuette Score:\n",
    "def comparison(df, n_components, covType):\n",
    "  silhouette = []\n",
    "  for i in n_components:\n",
    "    x = GMM_clustering(df, i, covType)\n",
    "    silhouette.append(silhouette_score(*x))\n",
    "  plt.plot(n_components, silhouette)\n",
    "  plt.xlabel('number of clusters')\n",
    "  plt.ylabel('Silhouette score')\n",
    "  plt.show()"
   ]
  },
  {
   "cell_type": "code",
   "execution_count": 137,
   "metadata": {},
   "outputs": [
    {
     "data": {
      "image/png": "[encoded data removed]",
      "text/plain": [
       "<Figure size 432x288 with 1 Axes>"
      ]
     },
     "metadata": {
      "needs_background": "light"
     },
     "output_type": "display_data"
    }
   ],
   "source": [
    "comparison(train, np.arange(2,11), 'full')"
   ]
  },
  {
   "cell_type": "code",
   "execution_count": 138,
   "metadata": {},
   "outputs": [
    {
     "data": {
      "image/png": "[encoded data removed]",
      "text/plain": [
       "<Figure size 432x288 with 1 Axes>"
      ]
     },
     "metadata": {
      "needs_background": "light"
     },
     "output_type": "display_data"
    }
   ],
   "source": [
    "comparison(train, np.arange(2,11), 'diag')"
   ]
  },
  {
   "cell_type": "code",
   "execution_count": 139,
   "metadata": {},
   "outputs": [
    {
     "data": {
      "image/png": "[encoded data removed]",
      "text/plain": [
       "<Figure size 432x288 with 1 Axes>"
      ]
     },
     "metadata": {
      "needs_background": "light"
     },
     "output_type": "display_data"
    }
   ],
   "source": [
    "comparison(train, np.arange(2,11), 'tied')"
   ]
  },
  {
   "cell_type": "code",
   "execution_count": 140,
   "metadata": {},
   "outputs": [
    {
     "data": {
      "image/png": "[encoded data removed]",
      "text/plain": [
       "<Figure size 432x288 with 1 Axes>"
      ]
     },
     "metadata": {
      "needs_background": "light"
     },
     "output_type": "display_data"
    }
   ],
   "source": [
    "comparison(train, np.arange(2,11), 'spherical')"
   ]
  },
  {
   "cell_type": "markdown",
   "metadata": {},
   "source": [
    "Według Silhuette Score optymalna liczba klastrów to 2 dla parametru covariance `spherical`."
   ]
  },
  {
   "cell_type": "markdown",
   "metadata": {},
   "source": [
    "## Ustawienie tresholdu"
   ]
  },
  {
   "cell_type": "code",
   "execution_count": 141,
   "metadata": {
    "scrolled": true
   },
   "outputs": [
    {
     "data": {
      "image/png": "[encoded data removed]",
      "text/plain": [
       "<Figure size 432x288 with 1 Axes>"
      ]
     },
     "metadata": {
      "needs_background": "light"
     },
     "output_type": "display_data"
    }
   ],
   "source": [
    "GMM = GaussianMixture(n_components=2, covariance_type='spherical')\n",
    "GMM.fit(train)\n",
    "score = GMM.score_samples(train)\n",
    "sns.boxplot(score)\n",
    "plt.show()"
   ]
  },
  {
   "cell_type": "markdown",
   "metadata": {},
   "source": [
    "W zbiorze traningowym nie ma outlierów, więc możemy policzyć treshold."
   ]
  },
  {
   "cell_type": "code",
   "execution_count": 142,
   "metadata": {
    "scrolled": true
   },
   "outputs": [
    {
     "name": "stdout",
     "output_type": "stream",
     "text": [
      "Threshold: (-114, -51)\n"
     ]
    }
   ],
   "source": [
    "treshold = floor(min(score)), ceil(max(score))\n",
    "print(f\"Threshold: {treshold}\")"
   ]
  },
  {
   "cell_type": "markdown",
   "metadata": {},
   "source": [
    "## Outliery w zbiorze walidacyjnym"
   ]
  },
  {
   "cell_type": "code",
   "execution_count": 143,
   "metadata": {},
   "outputs": [
    {
     "name": "stdout",
     "output_type": "stream",
     "text": [
      "Outliers in validation set:   [0, 0, 0, 0, 0, 0, 0, 1, 0, 0, 0, 0, 0, 0, 0, 0, 1]\n",
      "Sum of outliers:   2\n"
     ]
    }
   ],
   "source": [
    "score_samples_val = GMM.score_samples(val)\n",
    "outliers_val = []\n",
    "for i in score_samples_val:\n",
    "    if i < treshold[0] or i > treshold[1]:\n",
    "        outliers_val.append(1)\n",
    "    else:\n",
    "        outliers_val.append(0)\n",
    "print('Outliers in validation set:  ', outliers_val)\n",
    "print('Sum of outliers:  ', sum(outliers_val))"
   ]
  },
  {
   "cell_type": "code",
   "execution_count": 165,
   "metadata": {},
   "outputs": [
    {
     "name": "stdout",
     "output_type": "stream",
     "text": [
      "    class  predicted\n",
      "0       0          0\n",
      "1       0          0\n",
      "2       0          0\n",
      "3       0          0\n",
      "4       0          0\n",
      "5       0          0\n",
      "6       0          0\n",
      "7       0          0\n",
      "8       0          0\n",
      "9       0          0\n",
      "10      0          0\n",
      "11      0          0\n",
      "12      1          1\n",
      "13      1          0\n",
      "14      1          1\n",
      "15      1          1\n",
      "16      1          1\n"
     ]
    }
   ],
   "source": [
    "score_samples_test = GMM.score_samples(test_x)\n",
    "outliers_test = []\n",
    "for i in score_samples_test:\n",
    "    if i < treshold[0] or i > treshold[1]:\n",
    "        outliers_test.append(1)\n",
    "    else:\n",
    "        outliers_test.append(0)\n",
    "comparison_df = copy.deepcopy(test_y)\n",
    "comparison_df['predicted'] = outliers_test\n",
    "print(comparison_df)\n"
   ]
  },
  {
   "cell_type": "markdown",
   "metadata": {},
   "source": [
    "## Metryki"
   ]
  },
  {
   "cell_type": "code",
   "execution_count": 148,
   "metadata": {},
   "outputs": [
    {
     "name": "stdout",
     "output_type": "stream",
     "text": [
      "Precision score: 1.0\n",
      "F1 score: 0.888888888888889\n",
      "Recall score: 0.8\n"
     ]
    }
   ],
   "source": [
    "print(\"Precision score:\", precision_score(test_y, outliers_test))\n",
    "print(\"F1 score:\", f1_score(test_y, outliers_test))\n",
    "print(\"Recall score:\", recall_score(test_y, outliers_test))"
   ]
  },
  {
   "cell_type": "markdown",
   "metadata": {},
   "source": [
    "## Wnioski"
   ]
  },
  {
   "cell_type": "markdown",
   "metadata": {},
   "source": [
    "Jak widać, model poprawnie zinterpretował 4 z 5 outlierów ze zbioru testowego. Można z tego wywnioskować, że GMM może być stosowany w celu wykrywania outlierów. Ważny w tym procesie jest odpowiedni dobór tresholdu."
   ]
  }
 ],
 "metadata": {
  "kernelspec": {
   "display_name": "Python 3",
   "language": "python",
   "name": "python3"
  },
  "language_info": {
   "codemirror_mode": {
    "name": "ipython",
    "version": 3
   },
   "file_extension": ".py",
   "mimetype": "text/x-python",
   "name": "python",
   "nbconvert_exporter": "python",
   "pygments_lexer": "ipython3",
   "version": "3.7.4"
  }
 },
 "nbformat": 4,
 "nbformat_minor": 4
}
