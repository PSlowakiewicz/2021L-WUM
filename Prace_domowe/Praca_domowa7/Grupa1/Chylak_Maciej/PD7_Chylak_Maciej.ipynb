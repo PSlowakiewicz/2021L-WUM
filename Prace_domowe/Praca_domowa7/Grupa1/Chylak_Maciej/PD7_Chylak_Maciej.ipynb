{
 "cells": [
  {
   "cell_type": "markdown",
   "id": "naked-academy",
   "metadata": {},
   "source": [
    "## Importowanie bibliotek i  zbiorów"
   ]
  },
  {
   "cell_type": "code",
   "execution_count": 34,
   "id": "simple-brunswick",
   "metadata": {},
   "outputs": [],
   "source": [
    "from sklearn import mixture\n",
    "from sklearn.metrics import f1_score, precision_score, recall_score\n",
    "import numpy as np\n",
    "import pandas as pd\n",
    "import matplotlib.pyplot as plt\n",
    "import seaborn as sns"
   ]
  },
  {
   "cell_type": "code",
   "execution_count": 3,
   "id": "numeric-armstrong",
   "metadata": {},
   "outputs": [],
   "source": [
    "test = pd.read_csv(\"./test.csv\")\n",
    "train = pd.read_csv(\"./train.csv\")\n",
    "val = pd.read_csv(\"./val.csv\")"
   ]
  },
  {
   "cell_type": "code",
   "execution_count": 4,
   "id": "external-spank",
   "metadata": {},
   "outputs": [
    {
     "data": {
      "text/html": [
       "<div>\n",
       "<style scoped>\n",
       "    .dataframe tbody tr th:only-of-type {\n",
       "        vertical-align: middle;\n",
       "    }\n",
       "\n",
       "    .dataframe tbody tr th {\n",
       "        vertical-align: top;\n",
       "    }\n",
       "\n",
       "    .dataframe thead th {\n",
       "        text-align: right;\n",
       "    }\n",
       "</style>\n",
       "<table border=\"1\" class=\"dataframe\">\n",
       "  <thead>\n",
       "    <tr style=\"text-align: right;\">\n",
       "      <th></th>\n",
       "      <th>class</th>\n",
       "      <th>Alcohol</th>\n",
       "      <th>Malic acid</th>\n",
       "      <th>Ash</th>\n",
       "      <th>Alcalinity of ash</th>\n",
       "      <th>Magnesium</th>\n",
       "      <th>Total phenols</th>\n",
       "      <th>Flavanoids</th>\n",
       "      <th>Nonflavanoid phenols</th>\n",
       "      <th>Proanthocyanins</th>\n",
       "      <th>Color intensity</th>\n",
       "      <th>Hue</th>\n",
       "      <th>OD280/OD315 of diluted wines</th>\n",
       "      <th>Proline</th>\n",
       "    </tr>\n",
       "  </thead>\n",
       "  <tbody>\n",
       "    <tr>\n",
       "      <th>0</th>\n",
       "      <td>0</td>\n",
       "      <td>13.34</td>\n",
       "      <td>0.94</td>\n",
       "      <td>2.36</td>\n",
       "      <td>17.0</td>\n",
       "      <td>110</td>\n",
       "      <td>2.53</td>\n",
       "      <td>1.30</td>\n",
       "      <td>0.55</td>\n",
       "      <td>0.42</td>\n",
       "      <td>3.17</td>\n",
       "      <td>1.02</td>\n",
       "      <td>1.93</td>\n",
       "      <td>750</td>\n",
       "    </tr>\n",
       "    <tr>\n",
       "      <th>1</th>\n",
       "      <td>0</td>\n",
       "      <td>12.00</td>\n",
       "      <td>0.92</td>\n",
       "      <td>2.00</td>\n",
       "      <td>19.0</td>\n",
       "      <td>86</td>\n",
       "      <td>2.42</td>\n",
       "      <td>2.26</td>\n",
       "      <td>0.30</td>\n",
       "      <td>1.43</td>\n",
       "      <td>2.50</td>\n",
       "      <td>1.38</td>\n",
       "      <td>3.12</td>\n",
       "      <td>278</td>\n",
       "    </tr>\n",
       "    <tr>\n",
       "      <th>2</th>\n",
       "      <td>0</td>\n",
       "      <td>11.84</td>\n",
       "      <td>0.89</td>\n",
       "      <td>2.58</td>\n",
       "      <td>18.0</td>\n",
       "      <td>94</td>\n",
       "      <td>2.20</td>\n",
       "      <td>2.21</td>\n",
       "      <td>0.22</td>\n",
       "      <td>2.35</td>\n",
       "      <td>3.05</td>\n",
       "      <td>0.79</td>\n",
       "      <td>3.08</td>\n",
       "      <td>520</td>\n",
       "    </tr>\n",
       "    <tr>\n",
       "      <th>3</th>\n",
       "      <td>0</td>\n",
       "      <td>12.47</td>\n",
       "      <td>1.52</td>\n",
       "      <td>2.20</td>\n",
       "      <td>19.0</td>\n",
       "      <td>162</td>\n",
       "      <td>2.50</td>\n",
       "      <td>2.27</td>\n",
       "      <td>0.32</td>\n",
       "      <td>3.28</td>\n",
       "      <td>2.60</td>\n",
       "      <td>1.16</td>\n",
       "      <td>2.63</td>\n",
       "      <td>937</td>\n",
       "    </tr>\n",
       "    <tr>\n",
       "      <th>4</th>\n",
       "      <td>0</td>\n",
       "      <td>11.81</td>\n",
       "      <td>2.12</td>\n",
       "      <td>2.74</td>\n",
       "      <td>21.5</td>\n",
       "      <td>134</td>\n",
       "      <td>1.60</td>\n",
       "      <td>0.99</td>\n",
       "      <td>0.14</td>\n",
       "      <td>1.56</td>\n",
       "      <td>2.50</td>\n",
       "      <td>0.95</td>\n",
       "      <td>2.26</td>\n",
       "      <td>625</td>\n",
       "    </tr>\n",
       "  </tbody>\n",
       "</table>\n",
       "</div>"
      ],
      "text/plain": [
       "   class  Alcohol  Malic acid   Ash  Alcalinity of ash  Magnesium  \\\n",
       "0      0    13.34        0.94  2.36               17.0        110   \n",
       "1      0    12.00        0.92  2.00               19.0         86   \n",
       "2      0    11.84        0.89  2.58               18.0         94   \n",
       "3      0    12.47        1.52  2.20               19.0        162   \n",
       "4      0    11.81        2.12  2.74               21.5        134   \n",
       "\n",
       "   Total phenols  Flavanoids  Nonflavanoid phenols  Proanthocyanins  \\\n",
       "0           2.53        1.30                  0.55             0.42   \n",
       "1           2.42        2.26                  0.30             1.43   \n",
       "2           2.20        2.21                  0.22             2.35   \n",
       "3           2.50        2.27                  0.32             3.28   \n",
       "4           1.60        0.99                  0.14             1.56   \n",
       "\n",
       "   Color intensity   Hue  OD280/OD315 of diluted wines  Proline  \n",
       "0             3.17  1.02                          1.93      750  \n",
       "1             2.50  1.38                          3.12      278  \n",
       "2             3.05  0.79                          3.08      520  \n",
       "3             2.60  1.16                          2.63      937  \n",
       "4             2.50  0.95                          2.26      625  "
      ]
     },
     "execution_count": 4,
     "metadata": {},
     "output_type": "execute_result"
    }
   ],
   "source": [
    "test.head()"
   ]
  },
  {
   "cell_type": "code",
   "execution_count": 36,
   "id": "engaging-ferry",
   "metadata": {},
   "outputs": [],
   "source": [
    "y_test = test.iloc[:, 0]"
   ]
  },
  {
   "cell_type": "markdown",
   "id": "loaded-leisure",
   "metadata": {},
   "source": [
    "## Tworzenie modelu"
   ]
  },
  {
   "cell_type": "code",
   "execution_count": 27,
   "id": "together-spray",
   "metadata": {},
   "outputs": [],
   "source": [
    "def GMM(X, n_components, covariance_type='full'):\n",
    "    gmm = mixture.GaussianMixture(n_components=n_components, covariance_type=covariance_type)\n",
    "    gmm.fit(X)\n",
    "    return gmm"
   ]
  },
  {
   "cell_type": "markdown",
   "id": "coastal-terrace",
   "metadata": {},
   "source": [
    "#### Chcemy wykorzystać algorytm do wykrywania obserwacji odstających, więc ustalimy podział na jeden klaster, a następnie sprawdzimy z jakim pradopodobieństwem należy on do naszego zbioru. Jeżeli z małym, będzie to dla nas znak, że jest on outlierem"
   ]
  },
  {
   "cell_type": "code",
   "execution_count": 28,
   "id": "finite-complex",
   "metadata": {},
   "outputs": [
    {
     "name": "stderr",
     "output_type": "stream",
     "text": [
      "C:\\Users\\macch\\Anaconda3\\lib\\site-packages\\sklearn\\cluster\\_kmeans.py:881: UserWarning: KMeans is known to have a memory leak on Windows with MKL, when there are less chunks than available threads. You can avoid it by setting the environment variable OMP_NUM_THREADS=1.\n",
      "  warnings.warn(\n"
     ]
    }
   ],
   "source": [
    "gmm = GMM(X= train, n_components=1)"
   ]
  },
  {
   "cell_type": "code",
   "execution_count": 42,
   "id": "bacterial-toyota",
   "metadata": {},
   "outputs": [
    {
     "data": {
      "text/plain": [
       "[<matplotlib.lines.Line2D at 0x20900fe3310>]"
      ]
     },
     "execution_count": 42,
     "metadata": {},
     "output_type": "execute_result"
    },
    {
     "data": {
      "image/png": "[encoded data removed]",
      "text/plain": [
       "<Figure size 432x288 with 1 Axes>"
      ]
     },
     "metadata": {
      "needs_background": "light"
     },
     "output_type": "display_data"
    }
   ],
   "source": [
    "plt.plot(gmm.score_samples(train))"
   ]
  },
  {
   "cell_type": "code",
   "execution_count": 43,
   "id": "noble-viking",
   "metadata": {},
   "outputs": [
    {
     "data": {
      "text/plain": [
       "[<matplotlib.lines.Line2D at 0x209010360a0>]"
      ]
     },
     "execution_count": 43,
     "metadata": {},
     "output_type": "execute_result"
    },
    {
     "data": {
      "image/png": "[encoded data removed]",
      "text/plain": [
       "<Figure size 432x288 with 1 Axes>"
      ]
     },
     "metadata": {
      "needs_background": "light"
     },
     "output_type": "display_data"
    }
   ],
   "source": [
    "plt.plot(gmm.score_samples(val))"
   ]
  },
  {
   "cell_type": "code",
   "execution_count": 94,
   "id": "fundamental-volume",
   "metadata": {},
   "outputs": [],
   "source": [
    "sort = np.sort(gmm.score_samples(train))\n",
    "threshold = sort[3]\n",
    "test_prediction1 = np.array(gmm.score_samples(test.drop(columns=[\"class\"], axis=1)) < threshold, dtype = int)"
   ]
  },
  {
   "cell_type": "markdown",
   "id": "appreciated-concentrate",
   "metadata": {},
   "source": [
    "Możemy zauważyć, że w zbiorze testowym cztery spośród naszych obserwacji zdają się odstawać od reszty. Natomiast jeżeli chodzi o zbiór walidacyjny, to tutaj dwie spośród obserwacji zdają się być outlierami. Różnice te są znacze, zatem zastosujmy threshold na poziomie czwartego najmniejszego pradopodobieństwa ze zbioru treningowego, gdyż jest ono najwyższe ze wszystkich \"outlierów\""
   ]
  },
  {
   "cell_type": "markdown",
   "id": "respiratory-backup",
   "metadata": {},
   "source": [
    "## Ocena modelu"
   ]
  },
  {
   "cell_type": "code",
   "execution_count": 95,
   "id": "sufficient-criminal",
   "metadata": {},
   "outputs": [
    {
     "data": {
      "text/plain": [
       "0.8333333333333334"
      ]
     },
     "execution_count": 95,
     "metadata": {},
     "output_type": "execute_result"
    }
   ],
   "source": [
    "precision_score(y_true=y_test, y_pred=test_prediction1)"
   ]
  },
  {
   "cell_type": "code",
   "execution_count": 96,
   "id": "celtic-temperature",
   "metadata": {},
   "outputs": [
    {
     "data": {
      "text/plain": [
       "1.0"
      ]
     },
     "execution_count": 96,
     "metadata": {},
     "output_type": "execute_result"
    }
   ],
   "source": [
    "recall_score(y_true=y_test, y_pred=test_prediction)"
   ]
  },
  {
   "cell_type": "code",
   "execution_count": 97,
   "id": "vocational-bubble",
   "metadata": {},
   "outputs": [
    {
     "data": {
      "text/plain": [
       "0.9090909090909091"
      ]
     },
     "execution_count": 97,
     "metadata": {},
     "output_type": "execute_result"
    }
   ],
   "source": [
    "f1_score(y_true=y_test, y_pred=test_prediction)"
   ]
  },
  {
   "cell_type": "markdown",
   "id": "vocational-supply",
   "metadata": {},
   "source": [
    "## Podsumowanie"
   ]
  },
  {
   "cell_type": "markdown",
   "id": "southeast-glucose",
   "metadata": {},
   "source": [
    "Metoda Gaussian Mixture jak najbardziej nadaje się do sprawdzania, czy nasza próbka zawiera outliery."
   ]
  },
  {
   "cell_type": "code",
   "execution_count": null,
   "id": "frank-bernard",
   "metadata": {},
   "outputs": [],
   "source": []
  }
 ],
 "metadata": {
  "kernelspec": {
   "display_name": "Python 3",
   "language": "python",
   "name": "python3"
  },
  "language_info": {
   "codemirror_mode": {
    "name": "ipython",
    "version": 3
   },
   "file_extension": ".py",
   "mimetype": "text/x-python",
   "name": "python",
   "nbconvert_exporter": "python",
   "pygments_lexer": "ipython3",
   "version": "3.8.8"
  }
 },
 "nbformat": 4,
 "nbformat_minor": 5
}
