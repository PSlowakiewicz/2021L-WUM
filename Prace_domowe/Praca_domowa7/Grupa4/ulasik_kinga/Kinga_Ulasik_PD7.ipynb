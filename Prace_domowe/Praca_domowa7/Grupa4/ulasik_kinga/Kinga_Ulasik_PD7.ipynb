{
 "cells": [
  {
   "cell_type": "markdown",
   "id": "headed-chick",
   "metadata": {},
   "source": [
    "# Praca Domowa 7 - Wstęp do uczenia maszynowego\n",
    "## Kinga Ułasik IiAD 02.06.2021"
   ]
  },
  {
   "cell_type": "markdown",
   "id": "pleased-friendly",
   "metadata": {},
   "source": [
    "# Potrzebne importy"
   ]
  },
  {
   "cell_type": "code",
   "execution_count": 6,
   "id": "planned-beauty",
   "metadata": {},
   "outputs": [],
   "source": [
    "import logging\n",
    "from time import time\n",
    "from sklearn.datasets import load_digits\n",
    "from numpy.random import RandomState\n",
    "import matplotlib.pyplot as plt\n",
    "\n",
    "import numpy as np\n",
    "import matplotlib.pyplot as plt\n",
    "\n",
    "from sklearn import datasets, cluster\n",
    "from sklearn.feature_extraction.image import grid_to_graph\n",
    "from sklearn.decomposition import PCA"
   ]
  },
  {
   "cell_type": "markdown",
   "id": "opposite-spyware",
   "metadata": {},
   "source": [
    "# Wczytanie danych"
   ]
  },
  {
   "cell_type": "code",
   "execution_count": 220,
   "id": "living-mixture",
   "metadata": {
    "scrolled": true
   },
   "outputs": [
    {
     "data": {
      "text/html": [
       "<div>\n",
       "<style scoped>\n",
       "    .dataframe tbody tr th:only-of-type {\n",
       "        vertical-align: middle;\n",
       "    }\n",
       "\n",
       "    .dataframe tbody tr th {\n",
       "        vertical-align: top;\n",
       "    }\n",
       "\n",
       "    .dataframe thead th {\n",
       "        text-align: right;\n",
       "    }\n",
       "</style>\n",
       "<table border=\"1\" class=\"dataframe\">\n",
       "  <thead>\n",
       "    <tr style=\"text-align: right;\">\n",
       "      <th></th>\n",
       "      <th>Alcohol</th>\n",
       "      <th>Malic acid</th>\n",
       "      <th>Ash</th>\n",
       "      <th>Alcalinity of ash</th>\n",
       "      <th>Magnesium</th>\n",
       "      <th>Total phenols</th>\n",
       "      <th>Flavanoids</th>\n",
       "      <th>Nonflavanoid phenols</th>\n",
       "      <th>Proanthocyanins</th>\n",
       "      <th>Color intensity</th>\n",
       "      <th>Hue</th>\n",
       "      <th>OD280/OD315 of diluted wines</th>\n",
       "      <th>Proline</th>\n",
       "    </tr>\n",
       "  </thead>\n",
       "  <tbody>\n",
       "    <tr>\n",
       "      <th>0</th>\n",
       "      <td>12.72</td>\n",
       "      <td>1.75</td>\n",
       "      <td>2.28</td>\n",
       "      <td>22.5</td>\n",
       "      <td>84</td>\n",
       "      <td>1.38</td>\n",
       "      <td>1.76</td>\n",
       "      <td>0.48</td>\n",
       "      <td>1.63</td>\n",
       "      <td>3.30</td>\n",
       "      <td>0.88</td>\n",
       "      <td>2.42</td>\n",
       "      <td>488</td>\n",
       "    </tr>\n",
       "    <tr>\n",
       "      <th>1</th>\n",
       "      <td>13.23</td>\n",
       "      <td>3.30</td>\n",
       "      <td>2.28</td>\n",
       "      <td>18.5</td>\n",
       "      <td>98</td>\n",
       "      <td>1.80</td>\n",
       "      <td>0.83</td>\n",
       "      <td>0.61</td>\n",
       "      <td>1.87</td>\n",
       "      <td>10.52</td>\n",
       "      <td>0.56</td>\n",
       "      <td>1.51</td>\n",
       "      <td>675</td>\n",
       "    </tr>\n",
       "    <tr>\n",
       "      <th>2</th>\n",
       "      <td>12.58</td>\n",
       "      <td>1.29</td>\n",
       "      <td>2.10</td>\n",
       "      <td>20.0</td>\n",
       "      <td>103</td>\n",
       "      <td>1.48</td>\n",
       "      <td>0.58</td>\n",
       "      <td>0.53</td>\n",
       "      <td>1.40</td>\n",
       "      <td>7.60</td>\n",
       "      <td>0.58</td>\n",
       "      <td>1.55</td>\n",
       "      <td>640</td>\n",
       "    </tr>\n",
       "    <tr>\n",
       "      <th>3</th>\n",
       "      <td>12.37</td>\n",
       "      <td>1.17</td>\n",
       "      <td>1.92</td>\n",
       "      <td>19.6</td>\n",
       "      <td>78</td>\n",
       "      <td>2.11</td>\n",
       "      <td>2.00</td>\n",
       "      <td>0.27</td>\n",
       "      <td>1.04</td>\n",
       "      <td>4.68</td>\n",
       "      <td>1.12</td>\n",
       "      <td>3.48</td>\n",
       "      <td>510</td>\n",
       "    </tr>\n",
       "    <tr>\n",
       "      <th>4</th>\n",
       "      <td>13.84</td>\n",
       "      <td>4.12</td>\n",
       "      <td>2.38</td>\n",
       "      <td>19.5</td>\n",
       "      <td>89</td>\n",
       "      <td>1.80</td>\n",
       "      <td>0.83</td>\n",
       "      <td>0.48</td>\n",
       "      <td>1.56</td>\n",
       "      <td>9.01</td>\n",
       "      <td>0.57</td>\n",
       "      <td>1.64</td>\n",
       "      <td>480</td>\n",
       "    </tr>\n",
       "  </tbody>\n",
       "</table>\n",
       "</div>"
      ],
      "text/plain": [
       "   Alcohol  Malic acid   Ash  Alcalinity of ash  Magnesium  Total phenols  \\\n",
       "0    12.72        1.75  2.28               22.5         84           1.38   \n",
       "1    13.23        3.30  2.28               18.5         98           1.80   \n",
       "2    12.58        1.29  2.10               20.0        103           1.48   \n",
       "3    12.37        1.17  1.92               19.6         78           2.11   \n",
       "4    13.84        4.12  2.38               19.5         89           1.80   \n",
       "\n",
       "   Flavanoids  Nonflavanoid phenols  Proanthocyanins  Color intensity   Hue  \\\n",
       "0        1.76                  0.48             1.63             3.30  0.88   \n",
       "1        0.83                  0.61             1.87            10.52  0.56   \n",
       "2        0.58                  0.53             1.40             7.60  0.58   \n",
       "3        2.00                  0.27             1.04             4.68  1.12   \n",
       "4        0.83                  0.48             1.56             9.01  0.57   \n",
       "\n",
       "   OD280/OD315 of diluted wines  Proline  \n",
       "0                          2.42      488  \n",
       "1                          1.51      675  \n",
       "2                          1.55      640  \n",
       "3                          3.48      510  \n",
       "4                          1.64      480  "
      ]
     },
     "execution_count": 220,
     "metadata": {},
     "output_type": "execute_result"
    }
   ],
   "source": [
    "train_org = pd.read_csv('train.csv')\n",
    "test_org = pd.read_csv('test.csv')\n",
    "val_org = pd.read_csv('val.csv')\n",
    "train_org.head()\n",
    "#0 - inlier, 1-outlier"
   ]
  },
  {
   "cell_type": "code",
   "execution_count": 221,
   "id": "fancy-interference",
   "metadata": {},
   "outputs": [],
   "source": [
    "train = train_org.copy()\n",
    "test = test_org.copy()\n",
    "val = val_org.copy()"
   ]
  },
  {
   "cell_type": "markdown",
   "id": "functional-vision",
   "metadata": {},
   "source": [
    "# Gausian Mixture Models - outlier detection"
   ]
  },
  {
   "cell_type": "code",
   "execution_count": 65,
   "id": "governmental-dutch",
   "metadata": {
    "scrolled": true
   },
   "outputs": [
    {
     "data": {
      "text/plain": [
       "array([ 1, -1,  1,  1,  1,  1,  1,  1,  1,  1,  1,  1,  1,  1,  1,  1,  1,\n",
       "        1,  1,  1,  1,  1,  1,  1,  1,  1,  1,  1,  1,  1,  1,  1,  1,  1,\n",
       "        1,  1,  1,  1,  1,  1,  1,  1,  1,  1,  1,  1, -1,  1,  1,  1,  1,\n",
       "        1,  1, -1,  1,  1,  1,  1,  1,  1,  1,  1,  1,  1,  1,  1,  1,  1,\n",
       "        1,  1,  1,  1,  1,  1,  1,  1,  1, -1,  1,  1,  1,  1,  1, -1,  1,\n",
       "        1,  1,  1,  1,  1,  1,  1,  1,  1,  1])"
      ]
     },
     "execution_count": 65,
     "metadata": {},
     "output_type": "execute_result"
    }
   ],
   "source": [
    "from sklego.mixture import GMMOutlierDetector\n",
    "mod = GMMOutlierDetector(n_components=16, threshold=0.95).fit(train)\n",
    "c = mod.predict(train)\n",
    "c"
   ]
  },
  {
   "cell_type": "code",
   "execution_count": 117,
   "id": "coral-shooting",
   "metadata": {
    "scrolled": true
   },
   "outputs": [],
   "source": [
    "#chcemy zrobić taki model żeby dla train zwracał same jedynki, bo zbiór nie zawieraobserwacji odstających\n",
    "true = [0]*95\n",
    "\n",
    "def mapping(array):\n",
    "    pred=[]\n",
    "    for x in array:\n",
    "        if (x==-1):\n",
    "            pred.append(1)\n",
    "        else:\n",
    "            pred.append(0)\n",
    "    return pred\n",
    "\n",
    "def difference(true, pred):\n",
    "    diff = 0;\n",
    "    for i in range(len(true)):\n",
    "        if true[i] != pred[i]:\n",
    "            diff = diff + 1\n",
    "    return diff"
   ]
  },
  {
   "cell_type": "code",
   "execution_count": 224,
   "id": "frequent-moderator",
   "metadata": {
    "scrolled": true
   },
   "outputs": [
    {
     "name": "stdout",
     "output_type": "stream",
     "text": [
      "Number of wrongly classified observations: 1\n",
      "Optimal number of components: 1\n",
      "Optimal threshold: 0.9900000000000002\n",
      "Optimal method: quantile\n"
     ]
    }
   ],
   "source": [
    "n_components = arange(start=1, stop=17)\n",
    "threshold =arange(start = 0.8, stop=1,step=0.01)\n",
    "methods =['quantile','stddev']\n",
    "min = 100\n",
    "\n",
    "for mth in methods:\n",
    "    for component in n_components:\n",
    "        for thr in threshold:\n",
    "            mod = GMMOutlierDetector(n_components=component, threshold=thr, method=mth)\n",
    "            mod.fit(train)\n",
    "            c = mod.predict(train)\n",
    "            pred = mapping(c)\n",
    "            diff = difference(true,pred)\n",
    "            if diff < min:\n",
    "                diff_final = diff\n",
    "                comp_final = component\n",
    "                thr_final = thr\n",
    "                mth_final = mth\n",
    "                min = diff\n",
    "            \n",
    "print('Number of wrongly classified observations:', diff_final)\n",
    "print('Optimal number of components:',comp_final)\n",
    "print('Optimal threshold:',thr_final)\n",
    "print('Optimal method:',mth_final)        "
   ]
  },
  {
   "cell_type": "markdown",
   "id": "photographic-adventure",
   "metadata": {},
   "source": [
    "# Szybka wizualizacja za pomocą PCA"
   ]
  },
  {
   "cell_type": "code",
   "execution_count": 148,
   "id": "uniform-discovery",
   "metadata": {
    "scrolled": false
   },
   "outputs": [
    {
     "data": {
      "image/png": "[encoded data removed]",
      "text/plain": [
       "<Figure size 864x576 with 1 Axes>"
      ]
     },
     "metadata": {
      "needs_background": "light"
     },
     "output_type": "display_data"
    }
   ],
   "source": [
    "pca = PCA()\n",
    "pca.fit(train)\n",
    "#spojrzyjmy na 'wytłumaczalność' wariancji w zależności od ilości komponentów\n",
    "plt.figure(1, figsize=(12,8))\n",
    "plt.plot(np.cumsum(pca.explained_variance_ratio_))\n",
    "plt.xlabel('number of components')\n",
    "plt.ylabel('cumulative explained variance')\n",
    "plt.show()"
   ]
  },
  {
   "cell_type": "markdown",
   "id": "neither-alias",
   "metadata": {},
   "source": [
    "Zauważmy że 2 komponenty wytłumaczą ponad 99% wariancji, więc możemy spokojnie to zastosować"
   ]
  },
  {
   "cell_type": "code",
   "execution_count": 184,
   "id": "norwegian-tomorrow",
   "metadata": {
    "scrolled": false
   },
   "outputs": [
    {
     "data": {
      "image/png": "[encoded data removed]",
      "text/plain": [
       "<Figure size 432x432 with 1 Axes>"
      ]
     },
     "metadata": {
      "needs_background": "light"
     },
     "output_type": "display_data"
    }
   ],
   "source": [
    "pca = PCA(n_components = 2)\n",
    "train_pca = pca.fit_transform(train)\n",
    "train_pca = pd.DataFrame(train_pca, columns=['pca_component_1', 'pca_component_2'])\n",
    "\n",
    "mod = GMMOutlierDetector(n_components=1, threshold=0.99, method='quantile')\n",
    "mod.fit(train)\n",
    "c = mod.predict(train)\n",
    "\n",
    "plt.figure(figsize =(6, 6))\n",
    "sns.scatterplot(data = train_pca, x = 'pca_component_1', y = 'pca_component_2', hue=c, palette=['violet', 'steelblue'])\n",
    "plt.title(\"Data vizualization on a scatter plot\")\n",
    "plt.xlabel(\"Dimension 1\")\n",
    "plt.ylabel(\"Dimension 2\")\n",
    "plt.legend(loc='upper left', labels=['Inlier', 'Outlier'])\n",
    "plt.grid()\n",
    "plt.show()"
   ]
  },
  {
   "cell_type": "markdown",
   "id": "demanding-simpson",
   "metadata": {},
   "source": [
    "Na wykresie została zaznaczona obserwacja odstającą, znajduje się ona w troche nietypowym miejscu, ale możliwe że to kwestia PCA"
   ]
  },
  {
   "cell_type": "markdown",
   "id": "union-fighter",
   "metadata": {},
   "source": [
    "# Sprawdzanie na zbiorze testowym"
   ]
  },
  {
   "cell_type": "code",
   "execution_count": 154,
   "id": "transsexual-johnson",
   "metadata": {},
   "outputs": [
    {
     "name": "stdout",
     "output_type": "stream",
     "text": [
      "F1 score: 0.9090909090909091\n",
      "Precision: 0.8333333333333334\n",
      "Recall: 1.0\n",
      "Number of missclasified observations: 1\n"
     ]
    }
   ],
   "source": [
    "from sklearn.metrics import f1_score, precision_score, recall_score\n",
    "mod = GMMOutlierDetector(n_components = 1, threshold=0.99, method='quantile')\n",
    "mod.fit(train)\n",
    "\n",
    "X = test.drop('class',axis=1)\n",
    "\n",
    "pred_test = mod.predict(X)\n",
    "pred_test = mapping(pred_test)\n",
    "\n",
    "#NAJS\n",
    "print('F1 score:',f1_score(test['class'], pred_test))\n",
    "print('Precision:',precision_score(test['class'], pred_test))\n",
    "print('Recall:',recall_score(test['class'], pred_test))\n",
    "print('Number of missclasified observations:', difference(test['class'], pred_test))"
   ]
  },
  {
   "cell_type": "markdown",
   "id": "radical-youth",
   "metadata": {},
   "source": [
    "Wartość F1 score jest całkiem wysoka (im bliżej 1 tym model radzi sobie lepiej, im bliżej zera tym gorzej). Precision ma się troche gorzej, tylko ok. 83% wykrytych outlierów faktycznie były outlier'ami, za to recall wynosi 1 - to znaczy, że model wykrył wszystkie istniejące outliery. Czyli, podsumowując, Detector wykrył o jedengo outliera za dużo."
   ]
  },
  {
   "cell_type": "code",
   "execution_count": 193,
   "id": "judicial-possibility",
   "metadata": {},
   "outputs": [
    {
     "data": {
      "image/png": "[encoded data removed]",
      "text/plain": [
       "<Figure size 432x432 with 1 Axes>"
      ]
     },
     "metadata": {
      "needs_background": "light"
     },
     "output_type": "display_data"
    }
   ],
   "source": [
    "pca = PCA(n_components = 2)\n",
    "X_pca = pca.fit_transform(X)\n",
    "X_pca = pd.DataFrame(X_pca, columns=['pca_component_1', 'pca_component_2'])\n",
    "\n",
    "mod = GMMOutlierDetector(n_components=1, threshold=0.99, method='quantile')\n",
    "mod.fit(train)\n",
    "c = mod.predict(X)\n",
    "\n",
    "plt.figure(figsize =(6, 6))\n",
    "sns.scatterplot(data = X_pca, x = 'pca_component_1', y = 'pca_component_2', hue=c, palette=['violet','steelblue'])\n",
    "plt.title(\"Data vizualization on a scatter plot\")\n",
    "plt.xlabel(\"Dimension 1\")\n",
    "plt.ylabel(\"Dimension 2\")\n",
    "plt.legend(loc='upper left', labels=['Inlier', 'Outlier'])\n",
    "plt.grid()\n",
    "plt.show()"
   ]
  },
  {
   "cell_type": "markdown",
   "id": "perfect-replication",
   "metadata": {},
   "source": [
    "Instuicyjnie wykryte outliery faktycznie odstają od reszty.\n",
    "\n",
    "Narysujmy jeszcze wykres jak powinno to wyglądać"
   ]
  },
  {
   "cell_type": "code",
   "execution_count": 216,
   "id": "worst-oliver",
   "metadata": {},
   "outputs": [],
   "source": [
    "#bez tego z jakiegos powodu legenda źle się tworzy\n",
    "def reverse_mapping(array):\n",
    "    pred=[]\n",
    "    for x in array:\n",
    "        if (x==1):\n",
    "            pred.append(-1)\n",
    "        else:\n",
    "            pred.append(1)\n",
    "    return pred"
   ]
  },
  {
   "cell_type": "code",
   "execution_count": 215,
   "id": "reserved-suite",
   "metadata": {},
   "outputs": [
    {
     "data": {
      "image/png": "[encoded data removed]",
      "text/plain": [
       "<Figure size 432x432 with 1 Axes>"
      ]
     },
     "metadata": {
      "needs_background": "light"
     },
     "output_type": "display_data"
    }
   ],
   "source": [
    "plt.figure(figsize =(6, 6))\n",
    "sns.scatterplot(data = X_pca, x = 'pca_component_1', y = 'pca_component_2', hue=reverse_mapping(test['class']), palette=['violet','steelblue'])\n",
    "plt.title(\"Data vizualization on a scatter plot\")\n",
    "plt.xlabel(\"Dimension 1\")\n",
    "plt.ylabel(\"Dimension 2\")\n",
    "plt.legend(loc='upper left', labels=['Inlier', 'Outlier'])\n",
    "plt.grid()\n",
    "plt.show()"
   ]
  },
  {
   "cell_type": "markdown",
   "id": "offensive-nowhere",
   "metadata": {},
   "source": [
    "# Sprawdzanie na zbiorze validacyjnym"
   ]
  },
  {
   "cell_type": "code",
   "execution_count": 178,
   "id": "rough-respect",
   "metadata": {
    "scrolled": false
   },
   "outputs": [
    {
     "data": {
      "text/html": [
       "<div>\n",
       "<style scoped>\n",
       "    .dataframe tbody tr th:only-of-type {\n",
       "        vertical-align: middle;\n",
       "    }\n",
       "\n",
       "    .dataframe tbody tr th {\n",
       "        vertical-align: top;\n",
       "    }\n",
       "\n",
       "    .dataframe thead th {\n",
       "        text-align: right;\n",
       "    }\n",
       "</style>\n",
       "<table border=\"1\" class=\"dataframe\">\n",
       "  <thead>\n",
       "    <tr style=\"text-align: right;\">\n",
       "      <th></th>\n",
       "      <th>Alcohol</th>\n",
       "      <th>Malic acid</th>\n",
       "      <th>Ash</th>\n",
       "      <th>Alcalinity of ash</th>\n",
       "      <th>Magnesium</th>\n",
       "      <th>Total phenols</th>\n",
       "      <th>Flavanoids</th>\n",
       "      <th>Nonflavanoid phenols</th>\n",
       "      <th>Proanthocyanins</th>\n",
       "      <th>Color intensity</th>\n",
       "      <th>Hue</th>\n",
       "      <th>OD280/OD315 of diluted wines</th>\n",
       "      <th>Proline</th>\n",
       "    </tr>\n",
       "  </thead>\n",
       "  <tbody>\n",
       "    <tr>\n",
       "      <th>0</th>\n",
       "      <td>0.832858</td>\n",
       "      <td>-0.846164</td>\n",
       "      <td>1.373515</td>\n",
       "      <td>1.689058</td>\n",
       "      <td>-0.833329</td>\n",
       "      <td>0.891960</td>\n",
       "      <td>0.648320</td>\n",
       "      <td>-1.315537</td>\n",
       "      <td>0.757469</td>\n",
       "      <td>-0.662656</td>\n",
       "      <td>2.093865</td>\n",
       "      <td>0.674855</td>\n",
       "      <td>-0.880666</td>\n",
       "    </tr>\n",
       "    <tr>\n",
       "      <th>1</th>\n",
       "      <td>0.196206</td>\n",
       "      <td>0.920647</td>\n",
       "      <td>0.456893</td>\n",
       "      <td>0.906660</td>\n",
       "      <td>0.951439</td>\n",
       "      <td>-0.693296</td>\n",
       "      <td>-1.231650</td>\n",
       "      <td>0.636887</td>\n",
       "      <td>-0.251629</td>\n",
       "      <td>1.046961</td>\n",
       "      <td>-0.989228</td>\n",
       "      <td>-1.555530</td>\n",
       "      <td>0.370932</td>\n",
       "    </tr>\n",
       "    <tr>\n",
       "      <th>2</th>\n",
       "      <td>-0.606529</td>\n",
       "      <td>0.523115</td>\n",
       "      <td>-0.411487</td>\n",
       "      <td>-0.462535</td>\n",
       "      <td>-0.610233</td>\n",
       "      <td>-1.134411</td>\n",
       "      <td>-1.311838</td>\n",
       "      <td>0.370647</td>\n",
       "      <td>-1.216854</td>\n",
       "      <td>2.337896</td>\n",
       "      <td>-0.895800</td>\n",
       "      <td>-1.290671</td>\n",
       "      <td>0.131656</td>\n",
       "    </tr>\n",
       "    <tr>\n",
       "      <th>3</th>\n",
       "      <td>-1.229340</td>\n",
       "      <td>-1.170080</td>\n",
       "      <td>-1.376353</td>\n",
       "      <td>-0.853733</td>\n",
       "      <td>-0.610233</td>\n",
       "      <td>1.677695</td>\n",
       "      <td>1.441293</td>\n",
       "      <td>-1.049297</td>\n",
       "      <td>0.932965</td>\n",
       "      <td>-0.174194</td>\n",
       "      <td>0.599032</td>\n",
       "      <td>0.131199</td>\n",
       "      <td>0.039627</td>\n",
       "    </tr>\n",
       "    <tr>\n",
       "      <th>4</th>\n",
       "      <td>0.334608</td>\n",
       "      <td>-0.625313</td>\n",
       "      <td>1.084056</td>\n",
       "      <td>-0.266936</td>\n",
       "      <td>0.282151</td>\n",
       "      <td>0.312997</td>\n",
       "      <td>0.425574</td>\n",
       "      <td>-0.694311</td>\n",
       "      <td>0.296794</td>\n",
       "      <td>-0.601598</td>\n",
       "      <td>0.972740</td>\n",
       "      <td>1.594889</td>\n",
       "      <td>0.720643</td>\n",
       "    </tr>\n",
       "  </tbody>\n",
       "</table>\n",
       "</div>"
      ],
      "text/plain": [
       "    Alcohol  Malic acid       Ash  Alcalinity of ash  Magnesium  \\\n",
       "0  0.832858   -0.846164  1.373515           1.689058  -0.833329   \n",
       "1  0.196206    0.920647  0.456893           0.906660   0.951439   \n",
       "2 -0.606529    0.523115 -0.411487          -0.462535  -0.610233   \n",
       "3 -1.229340   -1.170080 -1.376353          -0.853733  -0.610233   \n",
       "4  0.334608   -0.625313  1.084056          -0.266936   0.282151   \n",
       "\n",
       "   Total phenols  Flavanoids  Nonflavanoid phenols  Proanthocyanins  \\\n",
       "0       0.891960    0.648320             -1.315537         0.757469   \n",
       "1      -0.693296   -1.231650              0.636887        -0.251629   \n",
       "2      -1.134411   -1.311838              0.370647        -1.216854   \n",
       "3       1.677695    1.441293             -1.049297         0.932965   \n",
       "4       0.312997    0.425574             -0.694311         0.296794   \n",
       "\n",
       "   Color intensity       Hue  OD280/OD315 of diluted wines   Proline  \n",
       "0        -0.662656  2.093865                      0.674855 -0.880666  \n",
       "1         1.046961 -0.989228                     -1.555530  0.370932  \n",
       "2         2.337896 -0.895800                     -1.290671  0.131656  \n",
       "3        -0.174194  0.599032                      0.131199  0.039627  \n",
       "4        -0.601598  0.972740                      1.594889  0.720643  "
      ]
     },
     "execution_count": 178,
     "metadata": {},
     "output_type": "execute_result"
    }
   ],
   "source": [
    "val.head()"
   ]
  },
  {
   "cell_type": "markdown",
   "id": "architectural-thumb",
   "metadata": {},
   "source": [
    "Jak widać, zbiór walidacyjny nie ma kolumny 'class' więc jesteśmy w stanie okreslić jakoś działania Detectora tylko na podstawie wizualizacji"
   ]
  },
  {
   "cell_type": "code",
   "execution_count": 222,
   "id": "together-ecology",
   "metadata": {},
   "outputs": [
    {
     "data": {
      "text/plain": [
       "array([ 1,  1,  1,  1,  1,  1,  1, -1,  1,  1,  1,  1, -1,  1,  1,  1, -1])"
      ]
     },
     "execution_count": 222,
     "metadata": {},
     "output_type": "execute_result"
    }
   ],
   "source": [
    "mod = GMMOutlierDetector(n_components=1, threshold=0.99, method='quantile')\n",
    "mod.fit(train)\n",
    "c = mod.predict(val)\n",
    "c"
   ]
  },
  {
   "cell_type": "code",
   "execution_count": 223,
   "id": "understanding-grave",
   "metadata": {},
   "outputs": [
    {
     "data": {
      "image/png": "[encoded data removed]",
      "text/plain": [
       "<Figure size 432x432 with 1 Axes>"
      ]
     },
     "metadata": {
      "needs_background": "light"
     },
     "output_type": "display_data"
    }
   ],
   "source": [
    "pca = PCA(n_components = 2)\n",
    "val_pca = pca.fit_transform(val)\n",
    "val_pca = pd.DataFrame(val_pca, columns=['pca_component_1', 'pca_component_2'])\n",
    "\n",
    "plt.figure(figsize =(6, 6))\n",
    "sns.scatterplot(data = val_pca, x = 'pca_component_1', y = 'pca_component_2', hue=c, palette=['violet','steelblue'])\n",
    "plt.title(\"Data vizualization on a scatter plot\")\n",
    "plt.xlabel(\"Dimension 1\")\n",
    "plt.ylabel(\"Dimension 2\")\n",
    "plt.legend(loc='upper left', labels=['Inlier', 'Outlier'])\n",
    "plt.grid()\n",
    "plt.show()"
   ]
  }
 ],
 "metadata": {
  "kernelspec": {
   "display_name": "Python 3",
   "language": "python",
   "name": "python3"
  },
  "language_info": {
   "codemirror_mode": {
    "name": "ipython",
    "version": 3
   },
   "file_extension": ".py",
   "mimetype": "text/x-python",
   "name": "python",
   "nbconvert_exporter": "python",
   "pygments_lexer": "ipython3",
   "version": "3.9.1"
  }
 },
 "nbformat": 4,
 "nbformat_minor": 5
}
