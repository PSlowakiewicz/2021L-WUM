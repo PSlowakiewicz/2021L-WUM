{
 "cells": [
  {
   "cell_type": "markdown",
   "id": "a2230cfa",
   "metadata": {},
   "source": [
    "# PD7 - Adam Frej"
   ]
  },
  {
   "cell_type": "markdown",
   "id": "d5b0b61f",
   "metadata": {},
   "source": [
    "## Import paczek i danych:"
   ]
  },
  {
   "cell_type": "code",
   "execution_count": 1,
   "id": "6c1ed425",
   "metadata": {},
   "outputs": [],
   "source": [
    "import pandas as pd\n",
    "import numpy as np\n",
    "import seaborn as sns\n",
    "from matplotlib import pyplot as plt\n",
    "from sklearn import mixture\n",
    "from sklearn.decomposition import PCA\n",
    "from sklearn.metrics import f1_score, precision_score, recall_score\n",
    "import warnings\n",
    "warnings.filterwarnings('ignore')"
   ]
  },
  {
   "cell_type": "code",
   "execution_count": 2,
   "id": "6eacd594",
   "metadata": {},
   "outputs": [],
   "source": [
    "train_df = pd.read_csv(\"train.csv\")\n",
    "test_df = pd.read_csv(\"test.csv\")\n",
    "val_df = pd.read_csv(\"val.csv\")"
   ]
  },
  {
   "cell_type": "code",
   "execution_count": 3,
   "id": "17dae857",
   "metadata": {},
   "outputs": [
    {
     "data": {
      "text/html": [
       "<div>\n",
       "<style scoped>\n",
       "    .dataframe tbody tr th:only-of-type {\n",
       "        vertical-align: middle;\n",
       "    }\n",
       "\n",
       "    .dataframe tbody tr th {\n",
       "        vertical-align: top;\n",
       "    }\n",
       "\n",
       "    .dataframe thead th {\n",
       "        text-align: right;\n",
       "    }\n",
       "</style>\n",
       "<table border=\"1\" class=\"dataframe\">\n",
       "  <thead>\n",
       "    <tr style=\"text-align: right;\">\n",
       "      <th></th>\n",
       "      <th>Alcohol</th>\n",
       "      <th>Malic acid</th>\n",
       "      <th>Ash</th>\n",
       "      <th>Alcalinity of ash</th>\n",
       "      <th>Magnesium</th>\n",
       "      <th>Total phenols</th>\n",
       "      <th>Flavanoids</th>\n",
       "      <th>Nonflavanoid phenols</th>\n",
       "      <th>Proanthocyanins</th>\n",
       "      <th>Color intensity</th>\n",
       "      <th>Hue</th>\n",
       "      <th>OD280/OD315 of diluted wines</th>\n",
       "      <th>Proline</th>\n",
       "    </tr>\n",
       "  </thead>\n",
       "  <tbody>\n",
       "    <tr>\n",
       "      <th>0</th>\n",
       "      <td>12.72</td>\n",
       "      <td>1.75</td>\n",
       "      <td>2.28</td>\n",
       "      <td>22.5</td>\n",
       "      <td>84</td>\n",
       "      <td>1.38</td>\n",
       "      <td>1.76</td>\n",
       "      <td>0.48</td>\n",
       "      <td>1.63</td>\n",
       "      <td>3.30</td>\n",
       "      <td>0.88</td>\n",
       "      <td>2.42</td>\n",
       "      <td>488</td>\n",
       "    </tr>\n",
       "    <tr>\n",
       "      <th>1</th>\n",
       "      <td>13.23</td>\n",
       "      <td>3.30</td>\n",
       "      <td>2.28</td>\n",
       "      <td>18.5</td>\n",
       "      <td>98</td>\n",
       "      <td>1.80</td>\n",
       "      <td>0.83</td>\n",
       "      <td>0.61</td>\n",
       "      <td>1.87</td>\n",
       "      <td>10.52</td>\n",
       "      <td>0.56</td>\n",
       "      <td>1.51</td>\n",
       "      <td>675</td>\n",
       "    </tr>\n",
       "    <tr>\n",
       "      <th>2</th>\n",
       "      <td>12.58</td>\n",
       "      <td>1.29</td>\n",
       "      <td>2.10</td>\n",
       "      <td>20.0</td>\n",
       "      <td>103</td>\n",
       "      <td>1.48</td>\n",
       "      <td>0.58</td>\n",
       "      <td>0.53</td>\n",
       "      <td>1.40</td>\n",
       "      <td>7.60</td>\n",
       "      <td>0.58</td>\n",
       "      <td>1.55</td>\n",
       "      <td>640</td>\n",
       "    </tr>\n",
       "    <tr>\n",
       "      <th>3</th>\n",
       "      <td>12.37</td>\n",
       "      <td>1.17</td>\n",
       "      <td>1.92</td>\n",
       "      <td>19.6</td>\n",
       "      <td>78</td>\n",
       "      <td>2.11</td>\n",
       "      <td>2.00</td>\n",
       "      <td>0.27</td>\n",
       "      <td>1.04</td>\n",
       "      <td>4.68</td>\n",
       "      <td>1.12</td>\n",
       "      <td>3.48</td>\n",
       "      <td>510</td>\n",
       "    </tr>\n",
       "    <tr>\n",
       "      <th>4</th>\n",
       "      <td>13.84</td>\n",
       "      <td>4.12</td>\n",
       "      <td>2.38</td>\n",
       "      <td>19.5</td>\n",
       "      <td>89</td>\n",
       "      <td>1.80</td>\n",
       "      <td>0.83</td>\n",
       "      <td>0.48</td>\n",
       "      <td>1.56</td>\n",
       "      <td>9.01</td>\n",
       "      <td>0.57</td>\n",
       "      <td>1.64</td>\n",
       "      <td>480</td>\n",
       "    </tr>\n",
       "  </tbody>\n",
       "</table>\n",
       "</div>"
      ],
      "text/plain": [
       "   Alcohol  Malic acid   Ash  Alcalinity of ash  Magnesium  Total phenols  \\\n",
       "0    12.72        1.75  2.28               22.5         84           1.38   \n",
       "1    13.23        3.30  2.28               18.5         98           1.80   \n",
       "2    12.58        1.29  2.10               20.0        103           1.48   \n",
       "3    12.37        1.17  1.92               19.6         78           2.11   \n",
       "4    13.84        4.12  2.38               19.5         89           1.80   \n",
       "\n",
       "   Flavanoids  Nonflavanoid phenols  Proanthocyanins  Color intensity   Hue  \\\n",
       "0        1.76                  0.48             1.63             3.30  0.88   \n",
       "1        0.83                  0.61             1.87            10.52  0.56   \n",
       "2        0.58                  0.53             1.40             7.60  0.58   \n",
       "3        2.00                  0.27             1.04             4.68  1.12   \n",
       "4        0.83                  0.48             1.56             9.01  0.57   \n",
       "\n",
       "   OD280/OD315 of diluted wines  Proline  \n",
       "0                          2.42      488  \n",
       "1                          1.51      675  \n",
       "2                          1.55      640  \n",
       "3                          3.48      510  \n",
       "4                          1.64      480  "
      ]
     },
     "execution_count": 3,
     "metadata": {},
     "output_type": "execute_result"
    }
   ],
   "source": [
    "train_df.head()"
   ]
  },
  {
   "cell_type": "code",
   "execution_count": 4,
   "id": "d893ffb7",
   "metadata": {},
   "outputs": [
    {
     "data": {
      "text/html": [
       "<div>\n",
       "<style scoped>\n",
       "    .dataframe tbody tr th:only-of-type {\n",
       "        vertical-align: middle;\n",
       "    }\n",
       "\n",
       "    .dataframe tbody tr th {\n",
       "        vertical-align: top;\n",
       "    }\n",
       "\n",
       "    .dataframe thead th {\n",
       "        text-align: right;\n",
       "    }\n",
       "</style>\n",
       "<table border=\"1\" class=\"dataframe\">\n",
       "  <thead>\n",
       "    <tr style=\"text-align: right;\">\n",
       "      <th></th>\n",
       "      <th>class</th>\n",
       "      <th>Alcohol</th>\n",
       "      <th>Malic acid</th>\n",
       "      <th>Ash</th>\n",
       "      <th>Alcalinity of ash</th>\n",
       "      <th>Magnesium</th>\n",
       "      <th>Total phenols</th>\n",
       "      <th>Flavanoids</th>\n",
       "      <th>Nonflavanoid phenols</th>\n",
       "      <th>Proanthocyanins</th>\n",
       "      <th>Color intensity</th>\n",
       "      <th>Hue</th>\n",
       "      <th>OD280/OD315 of diluted wines</th>\n",
       "      <th>Proline</th>\n",
       "    </tr>\n",
       "  </thead>\n",
       "  <tbody>\n",
       "    <tr>\n",
       "      <th>0</th>\n",
       "      <td>0</td>\n",
       "      <td>13.34</td>\n",
       "      <td>0.94</td>\n",
       "      <td>2.36</td>\n",
       "      <td>17.0</td>\n",
       "      <td>110</td>\n",
       "      <td>2.53</td>\n",
       "      <td>1.30</td>\n",
       "      <td>0.55</td>\n",
       "      <td>0.42</td>\n",
       "      <td>3.17</td>\n",
       "      <td>1.02</td>\n",
       "      <td>1.93</td>\n",
       "      <td>750</td>\n",
       "    </tr>\n",
       "    <tr>\n",
       "      <th>1</th>\n",
       "      <td>0</td>\n",
       "      <td>12.00</td>\n",
       "      <td>0.92</td>\n",
       "      <td>2.00</td>\n",
       "      <td>19.0</td>\n",
       "      <td>86</td>\n",
       "      <td>2.42</td>\n",
       "      <td>2.26</td>\n",
       "      <td>0.30</td>\n",
       "      <td>1.43</td>\n",
       "      <td>2.50</td>\n",
       "      <td>1.38</td>\n",
       "      <td>3.12</td>\n",
       "      <td>278</td>\n",
       "    </tr>\n",
       "    <tr>\n",
       "      <th>2</th>\n",
       "      <td>0</td>\n",
       "      <td>11.84</td>\n",
       "      <td>0.89</td>\n",
       "      <td>2.58</td>\n",
       "      <td>18.0</td>\n",
       "      <td>94</td>\n",
       "      <td>2.20</td>\n",
       "      <td>2.21</td>\n",
       "      <td>0.22</td>\n",
       "      <td>2.35</td>\n",
       "      <td>3.05</td>\n",
       "      <td>0.79</td>\n",
       "      <td>3.08</td>\n",
       "      <td>520</td>\n",
       "    </tr>\n",
       "    <tr>\n",
       "      <th>3</th>\n",
       "      <td>0</td>\n",
       "      <td>12.47</td>\n",
       "      <td>1.52</td>\n",
       "      <td>2.20</td>\n",
       "      <td>19.0</td>\n",
       "      <td>162</td>\n",
       "      <td>2.50</td>\n",
       "      <td>2.27</td>\n",
       "      <td>0.32</td>\n",
       "      <td>3.28</td>\n",
       "      <td>2.60</td>\n",
       "      <td>1.16</td>\n",
       "      <td>2.63</td>\n",
       "      <td>937</td>\n",
       "    </tr>\n",
       "    <tr>\n",
       "      <th>4</th>\n",
       "      <td>0</td>\n",
       "      <td>11.81</td>\n",
       "      <td>2.12</td>\n",
       "      <td>2.74</td>\n",
       "      <td>21.5</td>\n",
       "      <td>134</td>\n",
       "      <td>1.60</td>\n",
       "      <td>0.99</td>\n",
       "      <td>0.14</td>\n",
       "      <td>1.56</td>\n",
       "      <td>2.50</td>\n",
       "      <td>0.95</td>\n",
       "      <td>2.26</td>\n",
       "      <td>625</td>\n",
       "    </tr>\n",
       "  </tbody>\n",
       "</table>\n",
       "</div>"
      ],
      "text/plain": [
       "   class  Alcohol  Malic acid   Ash  Alcalinity of ash  Magnesium  \\\n",
       "0      0    13.34        0.94  2.36               17.0        110   \n",
       "1      0    12.00        0.92  2.00               19.0         86   \n",
       "2      0    11.84        0.89  2.58               18.0         94   \n",
       "3      0    12.47        1.52  2.20               19.0        162   \n",
       "4      0    11.81        2.12  2.74               21.5        134   \n",
       "\n",
       "   Total phenols  Flavanoids  Nonflavanoid phenols  Proanthocyanins  \\\n",
       "0           2.53        1.30                  0.55             0.42   \n",
       "1           2.42        2.26                  0.30             1.43   \n",
       "2           2.20        2.21                  0.22             2.35   \n",
       "3           2.50        2.27                  0.32             3.28   \n",
       "4           1.60        0.99                  0.14             1.56   \n",
       "\n",
       "   Color intensity   Hue  OD280/OD315 of diluted wines  Proline  \n",
       "0             3.17  1.02                          1.93      750  \n",
       "1             2.50  1.38                          3.12      278  \n",
       "2             3.05  0.79                          3.08      520  \n",
       "3             2.60  1.16                          2.63      937  \n",
       "4             2.50  0.95                          2.26      625  "
      ]
     },
     "execution_count": 4,
     "metadata": {},
     "output_type": "execute_result"
    }
   ],
   "source": [
    "test_df.head()"
   ]
  },
  {
   "cell_type": "code",
   "execution_count": 5,
   "id": "2eecb9cf",
   "metadata": {},
   "outputs": [
    {
     "data": {
      "text/html": [
       "<div>\n",
       "<style scoped>\n",
       "    .dataframe tbody tr th:only-of-type {\n",
       "        vertical-align: middle;\n",
       "    }\n",
       "\n",
       "    .dataframe tbody tr th {\n",
       "        vertical-align: top;\n",
       "    }\n",
       "\n",
       "    .dataframe thead th {\n",
       "        text-align: right;\n",
       "    }\n",
       "</style>\n",
       "<table border=\"1\" class=\"dataframe\">\n",
       "  <thead>\n",
       "    <tr style=\"text-align: right;\">\n",
       "      <th></th>\n",
       "      <th>Alcohol</th>\n",
       "      <th>Malic acid</th>\n",
       "      <th>Ash</th>\n",
       "      <th>Alcalinity of ash</th>\n",
       "      <th>Magnesium</th>\n",
       "      <th>Total phenols</th>\n",
       "      <th>Flavanoids</th>\n",
       "      <th>Nonflavanoid phenols</th>\n",
       "      <th>Proanthocyanins</th>\n",
       "      <th>Color intensity</th>\n",
       "      <th>Hue</th>\n",
       "      <th>OD280/OD315 of diluted wines</th>\n",
       "      <th>Proline</th>\n",
       "    </tr>\n",
       "  </thead>\n",
       "  <tbody>\n",
       "    <tr>\n",
       "      <th>0</th>\n",
       "      <td>13.86</td>\n",
       "      <td>1.51</td>\n",
       "      <td>2.67</td>\n",
       "      <td>25.0</td>\n",
       "      <td>86</td>\n",
       "      <td>2.95</td>\n",
       "      <td>2.86</td>\n",
       "      <td>0.21</td>\n",
       "      <td>1.87</td>\n",
       "      <td>3.38</td>\n",
       "      <td>1.36</td>\n",
       "      <td>3.16</td>\n",
       "      <td>410</td>\n",
       "    </tr>\n",
       "    <tr>\n",
       "      <th>1</th>\n",
       "      <td>13.40</td>\n",
       "      <td>3.91</td>\n",
       "      <td>2.48</td>\n",
       "      <td>23.0</td>\n",
       "      <td>102</td>\n",
       "      <td>1.80</td>\n",
       "      <td>0.75</td>\n",
       "      <td>0.43</td>\n",
       "      <td>1.41</td>\n",
       "      <td>7.30</td>\n",
       "      <td>0.70</td>\n",
       "      <td>1.56</td>\n",
       "      <td>750</td>\n",
       "    </tr>\n",
       "    <tr>\n",
       "      <th>2</th>\n",
       "      <td>12.82</td>\n",
       "      <td>3.37</td>\n",
       "      <td>2.30</td>\n",
       "      <td>19.5</td>\n",
       "      <td>88</td>\n",
       "      <td>1.48</td>\n",
       "      <td>0.66</td>\n",
       "      <td>0.40</td>\n",
       "      <td>0.97</td>\n",
       "      <td>10.26</td>\n",
       "      <td>0.72</td>\n",
       "      <td>1.75</td>\n",
       "      <td>685</td>\n",
       "    </tr>\n",
       "    <tr>\n",
       "      <th>3</th>\n",
       "      <td>12.37</td>\n",
       "      <td>1.07</td>\n",
       "      <td>2.10</td>\n",
       "      <td>18.5</td>\n",
       "      <td>88</td>\n",
       "      <td>3.52</td>\n",
       "      <td>3.75</td>\n",
       "      <td>0.24</td>\n",
       "      <td>1.95</td>\n",
       "      <td>4.50</td>\n",
       "      <td>1.04</td>\n",
       "      <td>2.77</td>\n",
       "      <td>660</td>\n",
       "    </tr>\n",
       "    <tr>\n",
       "      <th>4</th>\n",
       "      <td>13.50</td>\n",
       "      <td>1.81</td>\n",
       "      <td>2.61</td>\n",
       "      <td>20.0</td>\n",
       "      <td>96</td>\n",
       "      <td>2.53</td>\n",
       "      <td>2.61</td>\n",
       "      <td>0.28</td>\n",
       "      <td>1.66</td>\n",
       "      <td>3.52</td>\n",
       "      <td>1.12</td>\n",
       "      <td>3.82</td>\n",
       "      <td>845</td>\n",
       "    </tr>\n",
       "  </tbody>\n",
       "</table>\n",
       "</div>"
      ],
      "text/plain": [
       "   Alcohol  Malic acid   Ash  Alcalinity of ash  Magnesium  Total phenols  \\\n",
       "0    13.86        1.51  2.67               25.0         86           2.95   \n",
       "1    13.40        3.91  2.48               23.0        102           1.80   \n",
       "2    12.82        3.37  2.30               19.5         88           1.48   \n",
       "3    12.37        1.07  2.10               18.5         88           3.52   \n",
       "4    13.50        1.81  2.61               20.0         96           2.53   \n",
       "\n",
       "   Flavanoids  Nonflavanoid phenols  Proanthocyanins  Color intensity   Hue  \\\n",
       "0        2.86                  0.21             1.87             3.38  1.36   \n",
       "1        0.75                  0.43             1.41             7.30  0.70   \n",
       "2        0.66                  0.40             0.97            10.26  0.72   \n",
       "3        3.75                  0.24             1.95             4.50  1.04   \n",
       "4        2.61                  0.28             1.66             3.52  1.12   \n",
       "\n",
       "   OD280/OD315 of diluted wines  Proline  \n",
       "0                          3.16      410  \n",
       "1                          1.56      750  \n",
       "2                          1.75      685  \n",
       "3                          2.77      660  \n",
       "4                          3.82      845  "
      ]
     },
     "execution_count": 5,
     "metadata": {},
     "output_type": "execute_result"
    }
   ],
   "source": [
    "val_df.head()"
   ]
  },
  {
   "cell_type": "markdown",
   "id": "e36c477e",
   "metadata": {},
   "source": [
    "## Trenowanie GMM:\n",
    "Algorytm GMM wykorzystuje rozkłady normalne do znjadowania klastrów. Dla każdego punktu zwraca prawdopodobieństwo należenia do danego klastra. Aby znaleźć próbki odstające utworzymy jeden klaster, który reprezentuje pojedynczy rozkład normalny. Jeżeli dany punkt ma odstające prawdopodobieństwo, to można go zaklasyfikować jako odstający od rozkładu normalnego."
   ]
  },
  {
   "cell_type": "code",
   "execution_count": 6,
   "id": "87ef058b",
   "metadata": {},
   "outputs": [
    {
     "data": {
      "text/plain": [
       "GaussianMixture()"
      ]
     },
     "execution_count": 6,
     "metadata": {},
     "output_type": "execute_result"
    }
   ],
   "source": [
    "gmm = mixture.GaussianMixture(n_components=1)\n",
    "gmm.fit(train_df)"
   ]
  },
  {
   "cell_type": "markdown",
   "id": "4019ab88",
   "metadata": {},
   "source": [
    "## Rozkład prawdopodbieństwa:"
   ]
  },
  {
   "cell_type": "code",
   "execution_count": 7,
   "id": "8916e771",
   "metadata": {},
   "outputs": [
    {
     "data": {
      "image/png": "[encoded data removed]",
      "text/plain": [
       "<Figure size 432x288 with 1 Axes>"
      ]
     },
     "metadata": {
      "needs_background": "light"
     },
     "output_type": "display_data"
    }
   ],
   "source": [
    "log_prob_val = gmm.score_samples(val_df)\n",
    "sns.histplot(log_prob_val, binwidth=1.5)\n",
    "plt.title(\"Log probability for val data\")\n",
    "plt.xlabel(\"Weighted log probabilities\")\n",
    "plt.show()"
   ]
  },
  {
   "cell_type": "markdown",
   "id": "bc40e53a",
   "metadata": {},
   "source": [
    "Wybierzmy granicę, która odziela próbki odstające. Jest to wybór subiektywny. Z wykresu -30 wydaje się być odpowiednie."
   ]
  },
  {
   "cell_type": "code",
   "execution_count": 8,
   "id": "05c3cd18",
   "metadata": {},
   "outputs": [],
   "source": [
    "min_prob = -30"
   ]
  },
  {
   "cell_type": "markdown",
   "id": "cf7f6a38",
   "metadata": {},
   "source": [
    "## PCA:\n",
    "Zwizualizujmy przy pomocy PCA nasze dane. Na wykresie oznaczone są próbki odstające. Jak widać dla zbioru walidacyjnego znaleźliśmy 3."
   ]
  },
  {
   "cell_type": "code",
   "execution_count": 9,
   "id": "f00e3501",
   "metadata": {},
   "outputs": [
    {
     "data": {
      "text/plain": [
       "<AxesSubplot:>"
      ]
     },
     "execution_count": 9,
     "metadata": {},
     "output_type": "execute_result"
    },
    {
     "data": {
      "image/png": "[encoded data removed]",
      "text/plain": [
       "<Figure size 432x288 with 1 Axes>"
      ]
     },
     "metadata": {
      "needs_background": "light"
     },
     "output_type": "display_data"
    }
   ],
   "source": [
    "pca = PCA(n_components=2)\n",
    "pca.fit(train_df)\n",
    "pca_val = pca.transform(val_df)\n",
    "sns.scatterplot(x=pca_val[:, 0], y=pca_val[:, 1], hue=map(lambda x: \"Inlier\" if x == False else \"Outlier\", log_prob_val<min_prob))"
   ]
  },
  {
   "cell_type": "markdown",
   "id": "970f5712",
   "metadata": {},
   "source": [
    "## Test:\n",
    "Użyjmy wytrenowanych modeli na zbiorze testowym. Granica jest już wyznaczona. Wizualizuję prawdopobieństwa tylko dodatkowo."
   ]
  },
  {
   "cell_type": "code",
   "execution_count": 10,
   "id": "dce14c21",
   "metadata": {},
   "outputs": [],
   "source": [
    "test_X = test_df.iloc[:, 1:]\n",
    "test_Y = test_df.iloc[:, 0]"
   ]
  },
  {
   "cell_type": "code",
   "execution_count": 11,
   "id": "44ceedeb",
   "metadata": {},
   "outputs": [
    {
     "data": {
      "image/png": "[encoded data removed]",
      "text/plain": [
       "<Figure size 432x288 with 1 Axes>"
      ]
     },
     "metadata": {
      "needs_background": "light"
     },
     "output_type": "display_data"
    }
   ],
   "source": [
    "log_prob_test = gmm.score_samples(test_X)\n",
    "sns.histplot(log_prob_test, binwidth=1.5)\n",
    "plt.title(\"Log probability for test data\")\n",
    "plt.xlabel(\"Weighted log probabilities\")\n",
    "plt.show()"
   ]
  },
  {
   "cell_type": "markdown",
   "id": "69f1c6ec",
   "metadata": {},
   "source": [
    "Algorytm znalazł 6 próbek odstających."
   ]
  },
  {
   "cell_type": "code",
   "execution_count": 12,
   "id": "0b5b875c",
   "metadata": {},
   "outputs": [
    {
     "data": {
      "image/png": "[encoded data removed]",
      "text/plain": [
       "<Figure size 432x288 with 1 Axes>"
      ]
     },
     "metadata": {
      "needs_background": "light"
     },
     "output_type": "display_data"
    }
   ],
   "source": [
    "pca_test = pca.transform(test_X)\n",
    "sns.scatterplot(x=pca_test[:, 0], y=pca_test[:, 1], hue=map(lambda x: \"Inlier\" if x == False else \"Outlier\", log_prob_test<min_prob))\n",
    "plt.title(\"Predicted outliers\")\n",
    "plt.show()"
   ]
  },
  {
   "cell_type": "markdown",
   "id": "d59d3d99",
   "metadata": {},
   "source": [
    "Poniżej zaprezentowane są prawdziwe etykiety próbek odstających. Jak widać znaleźliśmy tylko o jedną za dużo, co jest dobrym wynikiem."
   ]
  },
  {
   "cell_type": "code",
   "execution_count": 13,
   "id": "631ae97d",
   "metadata": {},
   "outputs": [
    {
     "data": {
      "image/png": "[encoded data removed]",
      "text/plain": [
       "<Figure size 432x288 with 1 Axes>"
      ]
     },
     "metadata": {
      "needs_background": "light"
     },
     "output_type": "display_data"
    }
   ],
   "source": [
    "sns.scatterplot(x=pca_test[:, 0], y=pca_test[:, 1], hue=map(lambda x: \"Inlier\" if x == False else \"Outlier\", test_Y==1))\n",
    "plt.title(\"Real outliers\")\n",
    "plt.show()"
   ]
  },
  {
   "cell_type": "markdown",
   "id": "97d3e214",
   "metadata": {},
   "source": [
    "## Metryki:"
   ]
  },
  {
   "cell_type": "code",
   "execution_count": 14,
   "id": "7f292495",
   "metadata": {},
   "outputs": [
    {
     "name": "stdout",
     "output_type": "stream",
     "text": [
      "F1-Score:  0.9090909090909091\n",
      "Precision:  0.8333333333333334\n",
      "Recall:  1.0\n"
     ]
    }
   ],
   "source": [
    "test_Y_pred = np.array(log_prob_test<min_prob, dtype = int)\n",
    "print(\"F1-Score: \", f1_score(y_true=test_Y, y_pred=test_Y_pred))\n",
    "print(\"Precision: \", precision_score(y_true=test_Y, y_pred=test_Y_pred))\n",
    "print(\"Recall: \", recall_score(y_true=test_Y, y_pred=test_Y_pred))"
   ]
  },
  {
   "cell_type": "markdown",
   "id": "1de7b639",
   "metadata": {},
   "source": [
    "## Podsumowanie\n",
    "Jak widać algorytm GMM świetnie się nadaje do znajdowania próbek odstających. Oczywiście, o ile takie próbki definiujemy w kontekście rozkładu normalnego."
   ]
  }
 ],
 "metadata": {
  "kernelspec": {
   "display_name": "Python 3",
   "language": "python",
   "name": "python3"
  },
  "language_info": {
   "codemirror_mode": {
    "name": "ipython",
    "version": 3
   },
   "file_extension": ".py",
   "mimetype": "text/x-python",
   "name": "python",
   "nbconvert_exporter": "python",
   "pygments_lexer": "ipython3",
   "version": "3.7.10"
  }
 },
 "nbformat": 4,
 "nbformat_minor": 5
}
