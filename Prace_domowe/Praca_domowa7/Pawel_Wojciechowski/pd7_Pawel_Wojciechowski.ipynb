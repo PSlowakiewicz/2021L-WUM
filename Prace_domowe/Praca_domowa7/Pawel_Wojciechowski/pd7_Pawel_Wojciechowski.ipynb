{
 "cells": [
  {
   "cell_type": "code",
   "execution_count": 2,
   "id": "dress-david",
   "metadata": {},
   "outputs": [],
   "source": [
    "import pandas as pd\n",
    "import numpy as np\n",
    "import matplotlib.pyplot as plt"
   ]
  },
  {
   "cell_type": "markdown",
   "id": "assigned-reach",
   "metadata": {},
   "source": [
    "# Praca domowa 7 - wykyrwanie obserwacji odstających\n",
    "*Paweł Wojciechowski*\n",
    "\n",
    "Celem zadania jest użycie modelu GMM (*Gaussian Mixture Modeling*) do wykrywania obserwacji odstających.\n",
    "## Dane i model\n",
    "Wczytajmy dane oraz dopasyjmy model `GaussianMixture` do danych treningowych."
   ]
  },
  {
   "cell_type": "code",
   "execution_count": 23,
   "id": "necessary-guidance",
   "metadata": {},
   "outputs": [],
   "source": [
    "train_df = pd.read_csv('train.csv')\n",
    "test_df = pd.read_csv('test.csv')"
   ]
  },
  {
   "cell_type": "code",
   "execution_count": 24,
   "id": "copyrighted-command",
   "metadata": {},
   "outputs": [
    {
     "data": {
      "text/plain": [
       "GaussianMixture(n_init=10)"
      ]
     },
     "execution_count": 24,
     "metadata": {},
     "output_type": "execute_result"
    }
   ],
   "source": [
    "from sklearn.mixture import GaussianMixture\n",
    "gm = GaussianMixture(n_components=1, n_init=10)\n",
    "gm.fit(train_df)"
   ]
  },
  {
   "cell_type": "markdown",
   "id": "later-concord",
   "metadata": {},
   "source": [
    "## Wizualziacja danych\n",
    "Aby zwizualizować zbiór danych, standaryzujemy dane i redukujemy wymiarowość za pomocą PCA."
   ]
  },
  {
   "cell_type": "code",
   "execution_count": 25,
   "id": "knowing-aquarium",
   "metadata": {},
   "outputs": [],
   "source": [
    "from sklearn.preprocessing import StandardScaler\n",
    "from sklearn.decomposition import PCA\n",
    "from sklearn.pipeline import Pipeline\n",
    "\n",
    "pipeline = Pipeline([('scaler', StandardScaler()), ('pca', PCA(n_components=2))])\n",
    "train_t = pipeline.fit_transform(train_df)"
   ]
  },
  {
   "cell_type": "code",
   "execution_count": 26,
   "id": "fitted-aberdeen",
   "metadata": {},
   "outputs": [
    {
     "data": {
      "image/png": "[encoded data removed]",
      "text/plain": [
       "<Figure size 432x288 with 1 Axes>"
      ]
     },
     "metadata": {
      "needs_background": "light"
     },
     "output_type": "display_data"
    }
   ],
   "source": [
    "fig, ax = plt.subplots()\n",
    "ax.scatter(x=train_t[:,0], y=train_t[:,1])\n",
    "plt.show()"
   ]
  },
  {
   "cell_type": "markdown",
   "id": "institutional-blink",
   "metadata": {},
   "source": [
    "## Wybór progu decyzyjnego\n",
    "Aby wykorzystać algorytm GMM do wykrywania obserwacji odstających potrzebujemy ustalić wartość gęstości, która będzie wyznaczać próg decyzyjny poniżej którego obserwacje zostaną zakwalifikowane jako odstające. \n",
    "\n",
    "Na wykresie widać rozkład wartości gęstości (przekstałcone przez funkcję `log`) dla zbioru treningowego. Na jego postawie wartość `-29` wydaje się być dobrym progiem decyzyjnym. Odcina tylko trzy najdalsze obserwacje odstające i jednocześnie nie znajduje się zbyt blisko skupiska wartości."
   ]
  },
  {
   "cell_type": "code",
   "execution_count": 27,
   "id": "concrete-dancing",
   "metadata": {},
   "outputs": [
    {
     "data": {
      "image/png": "[encoded data removed]",
      "text/plain": [
       "<Figure size 432x288 with 1 Axes>"
      ]
     },
     "metadata": {
      "needs_background": "light"
     },
     "output_type": "display_data"
    }
   ],
   "source": [
    "pd.Series(gm.score_samples(train_df)).plot.box()\n",
    "plt.ylabel('log(p)')\n",
    "plt.xticks([], [])\n",
    "plt.title('Rozkład wartości gęstości dla zbioru treningowego')\n",
    "plt.show()"
   ]
  },
  {
   "cell_type": "markdown",
   "id": "double-democracy",
   "metadata": {},
   "source": [
    "## Wyniki \n",
    "Po ustaleniu progu, sprawdźmy jaki wynik uzyskamy na zbiorze testowym. \n",
    "\n",
    "Model GMM daje całkiem dobre wyniki wykrywania outlierów. Ze zbioru testowego tylko jeden punkt został źle sklasyfikowany (błąd typu false negative)."
   ]
  },
  {
   "cell_type": "code",
   "execution_count": 28,
   "id": "mental-mandate",
   "metadata": {},
   "outputs": [
    {
     "name": "stdout",
     "output_type": "stream",
     "text": [
      "Precision:  0.8333333333333334\n",
      "Recall:  1.0\n",
      "F1:  0.9090909090909091\n"
     ]
    }
   ],
   "source": [
    "from sklearn.metrics import f1_score\n",
    "from sklearn.metrics import recall_score\n",
    "from sklearn.metrics import precision_score\n",
    "densities = gm.score_samples(test_df.drop(columns=['class']))\n",
    "detected_labels = (densities < -29).astype('int')\n",
    "print('Precision: ',precision_score(test_df['class'], detected_labels))\n",
    "print('Recall: ', recall_score(test_df['class'], detected_labels))\n",
    "print('F1: ',f1_score(test_df['class'], detected_labels))"
   ]
  },
  {
   "cell_type": "markdown",
   "id": "incredible-dallas",
   "metadata": {},
   "source": [
    "Wizualizacja zbioru testowego z oznaczonym, źle sklasyfikowanym punktem."
   ]
  },
  {
   "cell_type": "code",
   "execution_count": 29,
   "id": "plain-indianapolis",
   "metadata": {},
   "outputs": [
    {
     "data": {
      "image/png": "[encoded data removed]",
      "text/plain": [
       "<Figure size 432x288 with 1 Axes>"
      ]
     },
     "metadata": {
      "needs_background": "light"
     },
     "output_type": "display_data"
    }
   ],
   "source": [
    "test_t = pipeline.transform(test_df.drop(columns=['class']))\n",
    "test_df['result'] = test_df['class'] - detected_labels\n",
    "fig, ax = plt.subplots()\n",
    "ax.scatter(x=test_t[:,0], y=test_t[:,1], c=test_df['result'])\n",
    "plt.show()"
   ]
  },
  {
   "cell_type": "code",
   "execution_count": 30,
   "id": "taken-tracker",
   "metadata": {},
   "outputs": [
    {
     "data": {
      "text/plain": [
       "0     0\n",
       "1     0\n",
       "2     0\n",
       "3    -1\n",
       "4     0\n",
       "5     0\n",
       "6     0\n",
       "7     0\n",
       "8     0\n",
       "9     0\n",
       "10    0\n",
       "11    0\n",
       "12    0\n",
       "13    0\n",
       "14    0\n",
       "15    0\n",
       "16    0\n",
       "Name: result, dtype: int64"
      ]
     },
     "execution_count": 30,
     "metadata": {},
     "output_type": "execute_result"
    }
   ],
   "source": [
    "# różnice pomiędzy kasyfikacją a prawdziwymi oznaczeniami\n",
    "test_df['result']"
   ]
  },
  {
   "cell_type": "code",
   "execution_count": null,
   "id": "dynamic-austria",
   "metadata": {},
   "outputs": [],
   "source": []
  }
 ],
 "metadata": {
  "kernelspec": {
   "display_name": "Python 3",
   "language": "python",
   "name": "python3"
  },
  "language_info": {
   "codemirror_mode": {
    "name": "ipython",
    "version": 3
   },
   "file_extension": ".py",
   "mimetype": "text/x-python",
   "name": "python",
   "nbconvert_exporter": "python",
   "pygments_lexer": "ipython3",
   "version": "3.8.2"
  }
 },
 "nbformat": 4,
 "nbformat_minor": 5
}
